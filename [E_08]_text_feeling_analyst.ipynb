{
 "cells": [
  {
   "cell_type": "markdown",
   "id": "167c1a1d",
   "metadata": {},
   "source": [
    "## 루브릭\n",
    "1. 다양한 방법으로 Text Classification 태스크를 성공적으로 구현하였다.\t\n",
    " - 3가지 이상의 모델이 성공적으로 시도됨\n",
    "2. gensim을 활용하여 자체학습된 혹은 사전학습된 임베딩 레이어를 분석하였다.\n",
    " - gensim의 유사단어 찾기를 활용하여 자체학습한 임베딩과 사전학습 임베딩을 비교 분석함\n",
    "3. 한국어 Word2Vec을 활용하여 가시적인 성능향상을 달성했다.\n",
    " - 네이버 영화리뷰 데이터 감성분석 정확도를 85% 이상 달성함"
   ]
  },
  {
   "cell_type": "code",
   "execution_count": 1,
   "id": "de474eff",
   "metadata": {},
   "outputs": [
    {
     "name": "stdout",
     "output_type": "stream",
     "text": [
      "1.3.3\n",
      "0.5.2\n",
      "3.8.3\n"
     ]
    }
   ],
   "source": [
    "import pandas\n",
    "import konlpy\n",
    "import gensim\n",
    "\n",
    "print(pandas.__version__)\n",
    "print(konlpy.__version__)\n",
    "print(gensim.__version__)"
   ]
  },
  {
   "cell_type": "code",
   "execution_count": 2,
   "id": "753d8653",
   "metadata": {},
   "outputs": [
    {
     "data": {
      "text/html": [
       "<div>\n",
       "<style scoped>\n",
       "    .dataframe tbody tr th:only-of-type {\n",
       "        vertical-align: middle;\n",
       "    }\n",
       "\n",
       "    .dataframe tbody tr th {\n",
       "        vertical-align: top;\n",
       "    }\n",
       "\n",
       "    .dataframe thead th {\n",
       "        text-align: right;\n",
       "    }\n",
       "</style>\n",
       "<table border=\"1\" class=\"dataframe\">\n",
       "  <thead>\n",
       "    <tr style=\"text-align: right;\">\n",
       "      <th></th>\n",
       "      <th>id</th>\n",
       "      <th>document</th>\n",
       "      <th>label</th>\n",
       "    </tr>\n",
       "  </thead>\n",
       "  <tbody>\n",
       "    <tr>\n",
       "      <th>0</th>\n",
       "      <td>9976970</td>\n",
       "      <td>아 더빙.. 진짜 짜증나네요 목소리</td>\n",
       "      <td>0</td>\n",
       "    </tr>\n",
       "    <tr>\n",
       "      <th>1</th>\n",
       "      <td>3819312</td>\n",
       "      <td>흠...포스터보고 초딩영화줄....오버연기조차 가볍지 않구나</td>\n",
       "      <td>1</td>\n",
       "    </tr>\n",
       "    <tr>\n",
       "      <th>2</th>\n",
       "      <td>10265843</td>\n",
       "      <td>너무재밓었다그래서보는것을추천한다</td>\n",
       "      <td>0</td>\n",
       "    </tr>\n",
       "    <tr>\n",
       "      <th>3</th>\n",
       "      <td>9045019</td>\n",
       "      <td>교도소 이야기구먼 ..솔직히 재미는 없다..평점 조정</td>\n",
       "      <td>0</td>\n",
       "    </tr>\n",
       "    <tr>\n",
       "      <th>4</th>\n",
       "      <td>6483659</td>\n",
       "      <td>사이몬페그의 익살스런 연기가 돋보였던 영화!스파이더맨에서 늙어보이기만 했던 커스틴 ...</td>\n",
       "      <td>1</td>\n",
       "    </tr>\n",
       "    <tr>\n",
       "      <th>5</th>\n",
       "      <td>5403919</td>\n",
       "      <td>막 걸음마 뗀 3세부터 초등학교 1학년생인 8살용영화.ㅋㅋㅋ...별반개도 아까움.</td>\n",
       "      <td>0</td>\n",
       "    </tr>\n",
       "    <tr>\n",
       "      <th>6</th>\n",
       "      <td>7797314</td>\n",
       "      <td>원작의 긴장감을 제대로 살려내지못했다.</td>\n",
       "      <td>0</td>\n",
       "    </tr>\n",
       "    <tr>\n",
       "      <th>7</th>\n",
       "      <td>9443947</td>\n",
       "      <td>별 반개도 아깝다 욕나온다 이응경 길용우 연기생활이몇년인지..정말 발로해도 그것보단...</td>\n",
       "      <td>0</td>\n",
       "    </tr>\n",
       "    <tr>\n",
       "      <th>8</th>\n",
       "      <td>7156791</td>\n",
       "      <td>액션이 없는데도 재미 있는 몇안되는 영화</td>\n",
       "      <td>1</td>\n",
       "    </tr>\n",
       "    <tr>\n",
       "      <th>9</th>\n",
       "      <td>5912145</td>\n",
       "      <td>왜케 평점이 낮은건데? 꽤 볼만한데.. 헐리우드식 화려함에만 너무 길들여져 있나?</td>\n",
       "      <td>1</td>\n",
       "    </tr>\n",
       "    <tr>\n",
       "      <th>10</th>\n",
       "      <td>9008700</td>\n",
       "      <td>걍인피니트가짱이다.진짜짱이다♥</td>\n",
       "      <td>1</td>\n",
       "    </tr>\n",
       "    <tr>\n",
       "      <th>11</th>\n",
       "      <td>10217543</td>\n",
       "      <td>볼때마다 눈물나서 죽겠다90년대의 향수자극!!허진호는 감성절제멜로의 달인이다~</td>\n",
       "      <td>1</td>\n",
       "    </tr>\n",
       "    <tr>\n",
       "      <th>12</th>\n",
       "      <td>5957425</td>\n",
       "      <td>울면서 손들고 횡단보도 건널때 뛰쳐나올뻔 이범수 연기 드럽게못해</td>\n",
       "      <td>0</td>\n",
       "    </tr>\n",
       "    <tr>\n",
       "      <th>13</th>\n",
       "      <td>8628627</td>\n",
       "      <td>담백하고 깔끔해서 좋다. 신문기사로만 보다 보면 자꾸 잊어버린다. 그들도 사람이었다...</td>\n",
       "      <td>1</td>\n",
       "    </tr>\n",
       "    <tr>\n",
       "      <th>14</th>\n",
       "      <td>9864035</td>\n",
       "      <td>취향은 존중한다지만 진짜 내생에 극장에서 본 영화중 가장 노잼 노감동임 스토리도 어...</td>\n",
       "      <td>0</td>\n",
       "    </tr>\n",
       "  </tbody>\n",
       "</table>\n",
       "</div>"
      ],
      "text/plain": [
       "          id                                           document  label\n",
       "0    9976970                                아 더빙.. 진짜 짜증나네요 목소리      0\n",
       "1    3819312                  흠...포스터보고 초딩영화줄....오버연기조차 가볍지 않구나      1\n",
       "2   10265843                                  너무재밓었다그래서보는것을추천한다      0\n",
       "3    9045019                      교도소 이야기구먼 ..솔직히 재미는 없다..평점 조정      0\n",
       "4    6483659  사이몬페그의 익살스런 연기가 돋보였던 영화!스파이더맨에서 늙어보이기만 했던 커스틴 ...      1\n",
       "5    5403919      막 걸음마 뗀 3세부터 초등학교 1학년생인 8살용영화.ㅋㅋㅋ...별반개도 아까움.      0\n",
       "6    7797314                              원작의 긴장감을 제대로 살려내지못했다.      0\n",
       "7    9443947  별 반개도 아깝다 욕나온다 이응경 길용우 연기생활이몇년인지..정말 발로해도 그것보단...      0\n",
       "8    7156791                             액션이 없는데도 재미 있는 몇안되는 영화      1\n",
       "9    5912145      왜케 평점이 낮은건데? 꽤 볼만한데.. 헐리우드식 화려함에만 너무 길들여져 있나?      1\n",
       "10   9008700                                   걍인피니트가짱이다.진짜짱이다♥      1\n",
       "11  10217543        볼때마다 눈물나서 죽겠다90년대의 향수자극!!허진호는 감성절제멜로의 달인이다~      1\n",
       "12   5957425                울면서 손들고 횡단보도 건널때 뛰쳐나올뻔 이범수 연기 드럽게못해      0\n",
       "13   8628627  담백하고 깔끔해서 좋다. 신문기사로만 보다 보면 자꾸 잊어버린다. 그들도 사람이었다...      1\n",
       "14   9864035  취향은 존중한다지만 진짜 내생에 극장에서 본 영화중 가장 노잼 노감동임 스토리도 어...      0"
      ]
     },
     "execution_count": 2,
     "metadata": {},
     "output_type": "execute_result"
    }
   ],
   "source": [
    "import pandas as pd\n",
    "import tensorflow as tf\n",
    "from PIL import Image\n",
    "import glob\n",
    "import matplotlib.pyplot as plt\n",
    "import os\n",
    "\n",
    "# 데이터를 읽어봅시다. \n",
    "train_data = pd.read_table('~/aiffel/sentiment_classification/data/ratings_train.txt')\n",
    "test_data = pd.read_table('~/aiffel/sentiment_classification/data/ratings_test.txt')\n",
    "\n",
    "train_data.head(15)"
   ]
  },
  {
   "cell_type": "code",
   "execution_count": 3,
   "id": "5cd61b6d",
   "metadata": {},
   "outputs": [],
   "source": [
    "from konlpy.tag import Mecab\n",
    "import numpy as np\n",
    "from collections import Counter\n",
    "\n",
    "tokenizer = Mecab()\n",
    "stopwords = ['의','가','이','은','들','는','좀','잘','걍','과','도','를','으로','자','에','와','한','하다']\n",
    "\n",
    "def load_data(train_data, test_data, num_words=10000):\n",
    "    train_data.drop_duplicates(subset=['document'], inplace=True)\n",
    "    train_data = train_data.dropna(how = 'any') \n",
    "    test_data.drop_duplicates(subset=['document'], inplace=True)\n",
    "    test_data = test_data.dropna(how = 'any') \n",
    "    \n",
    "    X_train = []\n",
    "    for sentence in train_data['document']:\n",
    "        temp_X = tokenizer.morphs(sentence) # 토큰화\n",
    "        temp_X = [word for word in temp_X if not word in stopwords] # 불용어 제거\n",
    "        X_train.append(temp_X)\n",
    "\n",
    "    X_test = []\n",
    "    for sentence in test_data['document']:\n",
    "        temp_X = tokenizer.morphs(sentence) # 토큰화\n",
    "        temp_X = [word for word in temp_X if not word in stopwords] # 불용어 제거\n",
    "        X_test.append(temp_X)\n",
    "    \n",
    "    words = np.concatenate(X_train).tolist()\n",
    "    counter = Counter(words)\n",
    "    counter = counter.most_common(10000-4)\n",
    "    vocab = ['', '', '', ''] + [key for key, _ in counter]\n",
    "    word_to_index = {word:index for index, word in enumerate(vocab)}\n",
    "        \n",
    "    def wordlist_to_indexlist(wordlist):\n",
    "        return [word_to_index[word] if word in word_to_index else word_to_index[''] for word in wordlist]\n",
    "        \n",
    "    X_train = list(map(wordlist_to_indexlist, X_train))\n",
    "    X_test = list(map(wordlist_to_indexlist, X_test))\n",
    "        \n",
    "    return X_train, np.array(list(train_data['label'])), X_test, np.array(list(test_data['label'])), word_to_index\n",
    "    \n",
    "X_train, y_train, X_test, y_test, word_to_index = load_data(train_data, test_data) "
   ]
  },
  {
   "cell_type": "code",
   "execution_count": 4,
   "id": "c2169dda",
   "metadata": {},
   "outputs": [],
   "source": [
    "index_to_word = {index:word for word, index in word_to_index.items()}"
   ]
  },
  {
   "cell_type": "markdown",
   "id": "2715cfc1",
   "metadata": {},
   "source": [
    "{텍스트:인덱스} 구조로 변경"
   ]
  },
  {
   "cell_type": "code",
   "execution_count": 5,
   "id": "7028004e",
   "metadata": {},
   "outputs": [],
   "source": [
    "# 문장 1개를 활용할 딕셔너리와 함께 주면, 단어 인덱스 리스트 벡터로 변환해 주는 함수입니다. \n",
    "# 단, 모든 문장은 <BOS>로 시작하는 것으로 합니다. \n",
    "def get_encoded_sentence(sentence, word_to_index):\n",
    "    return [word_to_index['<BOS>']]+[word_to_index[word] if word in word_to_index else word_to_index['<UNK>'] for word in sentence.split()]\n",
    "\n",
    "# 여러 개의 문장 리스트를 한꺼번에 단어 인덱스 리스트 벡터로 encode해 주는 함수입니다. \n",
    "def get_encoded_sentences(sentences, word_to_index):\n",
    "    return [get_encoded_sentence(sentence, word_to_index) for sentence in sentences]\n",
    "\n",
    "# 숫자 벡터로 encode된 문장을 원래대로 decode하는 함수입니다. \n",
    "def get_decoded_sentence(encoded_sentence, index_to_word):\n",
    "    return ' '.join(index_to_word[index] if index in index_to_word else '<UNK>' for index in encoded_sentence[1:])  #[1:]를 통해 <BOS>를 제외\n",
    "\n",
    "# 여러 개의 숫자 벡터로 encode된 문장을 한꺼번에 원래대로 decode하는 함수입니다. \n",
    "def get_decoded_sentences(encoded_sentences, index_to_word):\n",
    "    return [get_decoded_sentence(encoded_sentence, index_to_word) for encoded_sentence in encoded_sentences]"
   ]
  },
  {
   "cell_type": "code",
   "execution_count": 6,
   "id": "82edd01d",
   "metadata": {},
   "outputs": [
    {
     "name": "stdout",
     "output_type": "stream",
     "text": [
      "[445, 34, 7, 826, 1666, 55, 41, 3789, 66, 3, 116, 12, 34, 30]\n",
      ". .. 포스터 보고 초딩 영화 줄 . ... 오버 연기 조차 가볍 지 않 구나\n",
      "라벨:  1\n"
     ]
    }
   ],
   "source": [
    "print(X_train[99])\n",
    "print(get_decoded_sentence(X_train[1], index_to_word))\n",
    "print('라벨: ', y_train[1])"
   ]
  },
  {
   "cell_type": "markdown",
   "id": "16e9e767",
   "metadata": {},
   "source": [
    "## 3) 모델 구성을 위한 데이터 분석 및 가공"
   ]
  },
  {
   "cell_type": "code",
   "execution_count": 7,
   "id": "58781f4d",
   "metadata": {},
   "outputs": [
    {
     "name": "stdout",
     "output_type": "stream",
     "text": [
      "문장길이 평균 :  15.96940191154864\n",
      "문장길이 최대 :  116\n",
      "문장길이 표준편차 :  12.843571191092\n",
      "pad_sequences maxlen :  41\n",
      "전체 문장의 0.9342988343341575%가 maxlen 설정값 이내에 포함됩니다. \n"
     ]
    }
   ],
   "source": [
    "total_data_text = list(X_train) + list(X_test)\n",
    "# 텍스트데이터 문장길이의 리스트를 생성한 후\n",
    "num_tokens = [len(tokens) for tokens in total_data_text]\n",
    "num_tokens = np.array(num_tokens)\n",
    "# 문장길이의 평균값, 최대값, 표준편차를 계산해 본다. \n",
    "print('문장길이 평균 : ', np.mean(num_tokens))\n",
    "print('문장길이 최대 : ', np.max(num_tokens))\n",
    "print('문장길이 표준편차 : ', np.std(num_tokens))\n",
    "\n",
    "# 정규분포 기준 2시그마  \n",
    "max_tokens = np.mean(num_tokens) + 2 * np.std(num_tokens)\n",
    "maxlen = int(max_tokens)\n",
    "print('pad_sequences maxlen : ', maxlen)\n",
    "print('전체 문장의 {}%가 maxlen 설정값 이내에 포함됩니다. '.format(np.sum(num_tokens < max_tokens) / len(num_tokens)))"
   ]
  },
  {
   "cell_type": "markdown",
   "id": "48f16029",
   "metadata": {},
   "source": [
    "- padding에 pre와 post가 있다고 하는데 문장의 끝부분에 중요한 정보를 담고 있기 때문에 뒤쪽을 padding하는 post가 아닌 앞쪽을 패딩하는 pre로 진행"
   ]
  },
  {
   "cell_type": "code",
   "execution_count": 8,
   "id": "c565cfee",
   "metadata": {},
   "outputs": [],
   "source": [
    "word_to_index['<PAD>'] = 0"
   ]
  },
  {
   "cell_type": "code",
   "execution_count": 9,
   "id": "75510d17",
   "metadata": {},
   "outputs": [
    {
     "name": "stdout",
     "output_type": "stream",
     "text": [
      "(146182, 41)\n"
     ]
    }
   ],
   "source": [
    "X_train = tf.keras.preprocessing.sequence.pad_sequences(X_train,\n",
    "                                                        value=word_to_index[\"<PAD>\"],\n",
    "                                                        padding='pre',\n",
    "                                                        maxlen=maxlen)\n",
    "\n",
    "X_test = tf.keras.preprocessing.sequence.pad_sequences(X_test,\n",
    "                                                       value=word_to_index[\"<PAD>\"],\n",
    "                                                       padding='pre',\n",
    "                                                       maxlen=maxlen)\n",
    "\n",
    "print(X_train.shape)"
   ]
  },
  {
   "cell_type": "markdown",
   "id": "5e82ad39",
   "metadata": {},
   "source": [
    "## 4) 모델 구성 및 validation set 구성\n",
    "\n"
   ]
  },
  {
   "cell_type": "code",
   "execution_count": 10,
   "id": "7423476f",
   "metadata": {},
   "outputs": [
    {
     "name": "stdout",
     "output_type": "stream",
     "text": [
      "(102182, 41)\n",
      "(102182,)\n"
     ]
    }
   ],
   "source": [
    "# validation set 10000건 분리\n",
    "x_val = X_train[:44000]   \n",
    "y_val = y_train[:44000]\n",
    "\n",
    "# validation set을 제외한 나머지 15000건\n",
    "x_train = X_train[44000:]  \n",
    "y_train = y_train[44000:]\n",
    "\n",
    "print(x_train.shape)\n",
    "print(y_train.shape)"
   ]
  },
  {
   "cell_type": "markdown",
   "id": "7c535f24",
   "metadata": {},
   "source": [
    "X_train의 30프로(43854 -> 44000)를 validation set으로 지정"
   ]
  },
  {
   "cell_type": "markdown",
   "id": "ff56afd8",
   "metadata": {},
   "source": [
    "### 모델구성\n",
    "\n",
    " - RNN(LSTM)\n",
    " - 1D CNN\n",
    " - GlobalMaxPooling1D"
   ]
  },
  {
   "cell_type": "code",
   "execution_count": 11,
   "id": "31327e44",
   "metadata": {
    "scrolled": true
   },
   "outputs": [
    {
     "name": "stdout",
     "output_type": "stream",
     "text": [
      "Model: \"sequential\"\n",
      "_________________________________________________________________\n",
      "Layer (type)                 Output Shape              Param #   \n",
      "=================================================================\n",
      "embedding (Embedding)        (None, None, 16)          160000    \n",
      "_________________________________________________________________\n",
      "lstm (LSTM)                  (None, 8)                 800       \n",
      "_________________________________________________________________\n",
      "dense (Dense)                (None, 8)                 72        \n",
      "_________________________________________________________________\n",
      "dense_1 (Dense)              (None, 1)                 9         \n",
      "=================================================================\n",
      "Total params: 160,881\n",
      "Trainable params: 160,881\n",
      "Non-trainable params: 0\n",
      "_________________________________________________________________\n"
     ]
    }
   ],
   "source": [
    "vocab_size = 10000    # 어휘 사전의 크기입니다(10,000개의 단어)\n",
    "word_vector_dim = 16  # 워드 벡터의 차원 수 (변경 가능한 하이퍼파라미터)\n",
    "\n",
    "model_rnn = tf.keras.Sequential()\n",
    "model_rnn.add(tf.keras.layers.Embedding(vocab_size, word_vector_dim, input_shape=(None,)))\n",
    "model_rnn.add(tf.keras.layers.LSTM(8))\n",
    "model_rnn.add(tf.keras.layers.Dense(8, activation='relu'))\n",
    "model_rnn.add(tf.keras.layers.Dense(1, activation='sigmoid'))\n",
    "\n",
    "model_rnn.summary()"
   ]
  },
  {
   "cell_type": "code",
   "execution_count": 12,
   "id": "f8cf04ca",
   "metadata": {
    "scrolled": true
   },
   "outputs": [
    {
     "name": "stdout",
     "output_type": "stream",
     "text": [
      "Model: \"sequential_1\"\n",
      "_________________________________________________________________\n",
      "Layer (type)                 Output Shape              Param #   \n",
      "=================================================================\n",
      "embedding_1 (Embedding)      (None, None, 16)          160000    \n",
      "_________________________________________________________________\n",
      "conv1d (Conv1D)              (None, None, 16)          1808      \n",
      "_________________________________________________________________\n",
      "max_pooling1d (MaxPooling1D) (None, None, 16)          0         \n",
      "_________________________________________________________________\n",
      "conv1d_1 (Conv1D)            (None, None, 16)          1808      \n",
      "_________________________________________________________________\n",
      "global_max_pooling1d (Global (None, 16)                0         \n",
      "_________________________________________________________________\n",
      "dense_2 (Dense)              (None, 8)                 136       \n",
      "_________________________________________________________________\n",
      "dense_3 (Dense)              (None, 1)                 9         \n",
      "=================================================================\n",
      "Total params: 163,761\n",
      "Trainable params: 163,761\n",
      "Non-trainable params: 0\n",
      "_________________________________________________________________\n"
     ]
    }
   ],
   "source": [
    "model_cnn = tf.keras.Sequential()\n",
    "model_cnn.add(tf.keras.layers.Embedding(vocab_size, word_vector_dim, input_shape=(None,)))\n",
    "model_cnn.add(tf.keras.layers.Conv1D(16, 7, activation='relu'))\n",
    "model_cnn.add(tf.keras.layers.MaxPooling1D(5))\n",
    "model_cnn.add(tf.keras.layers.Conv1D(16, 7, activation='relu'))\n",
    "model_cnn.add(tf.keras.layers.GlobalMaxPooling1D())\n",
    "model_cnn.add(tf.keras.layers.Dense(8, activation='relu'))\n",
    "model_cnn.add(tf.keras.layers.Dense(1, activation='sigmoid'))\n",
    "\n",
    "model_cnn.summary()"
   ]
  },
  {
   "cell_type": "code",
   "execution_count": 13,
   "id": "e692cdb6",
   "metadata": {},
   "outputs": [
    {
     "name": "stdout",
     "output_type": "stream",
     "text": [
      "Model: \"sequential_2\"\n",
      "_________________________________________________________________\n",
      "Layer (type)                 Output Shape              Param #   \n",
      "=================================================================\n",
      "embedding_2 (Embedding)      (None, None, 16)          160000    \n",
      "_________________________________________________________________\n",
      "global_max_pooling1d_1 (Glob (None, 16)                0         \n",
      "_________________________________________________________________\n",
      "dense_4 (Dense)              (None, 8)                 136       \n",
      "_________________________________________________________________\n",
      "dense_5 (Dense)              (None, 1)                 9         \n",
      "=================================================================\n",
      "Total params: 160,145\n",
      "Trainable params: 160,145\n",
      "Non-trainable params: 0\n",
      "_________________________________________________________________\n"
     ]
    }
   ],
   "source": [
    "model_gmp = tf.keras.Sequential()\n",
    "model_gmp.add(tf.keras.layers.Embedding(vocab_size, word_vector_dim, input_shape=(None,)))\n",
    "model_gmp.add(tf.keras.layers.GlobalMaxPooling1D())\n",
    "model_gmp.add(tf.keras.layers.Dense(8, activation='relu'))\n",
    "model_gmp.add(tf.keras.layers.Dense(1, activation='sigmoid'))  # 최종 출력은 긍정/부정을 나타내는 1dim 입니다.\n",
    "\n",
    "model_gmp.summary()"
   ]
  },
  {
   "cell_type": "code",
   "execution_count": 14,
   "id": "d418fc62",
   "metadata": {
    "scrolled": true
   },
   "outputs": [
    {
     "name": "stdout",
     "output_type": "stream",
     "text": [
      "Epoch 1/10\n",
      "1597/1597 [==============================] - 12s 6ms/step - loss: 0.4087 - accuracy: 0.8161 - val_loss: 0.3473 - val_accuracy: 0.8496\n",
      "Epoch 2/10\n",
      "1597/1597 [==============================] - 9s 5ms/step - loss: 0.3251 - accuracy: 0.8629 - val_loss: 0.3398 - val_accuracy: 0.8509\n",
      "Epoch 3/10\n",
      "1597/1597 [==============================] - 9s 5ms/step - loss: 0.2968 - accuracy: 0.8744 - val_loss: 0.3472 - val_accuracy: 0.8507\n",
      "Epoch 4/10\n",
      "1597/1597 [==============================] - 9s 5ms/step - loss: 0.2711 - accuracy: 0.8858 - val_loss: 0.3496 - val_accuracy: 0.8539\n",
      "Epoch 5/10\n",
      "1597/1597 [==============================] - 9s 5ms/step - loss: 0.2464 - accuracy: 0.8966 - val_loss: 0.3573 - val_accuracy: 0.8526\n",
      "Epoch 6/10\n",
      "1597/1597 [==============================] - 9s 5ms/step - loss: 0.2239 - accuracy: 0.9064 - val_loss: 0.3785 - val_accuracy: 0.8507\n",
      "Epoch 7/10\n",
      "1597/1597 [==============================] - 9s 5ms/step - loss: 0.2063 - accuracy: 0.9152 - val_loss: 0.3976 - val_accuracy: 0.8494\n",
      "Epoch 8/10\n",
      "1597/1597 [==============================] - 9s 5ms/step - loss: 0.1914 - accuracy: 0.9220 - val_loss: 0.4176 - val_accuracy: 0.8471\n",
      "Epoch 9/10\n",
      "1597/1597 [==============================] - 9s 6ms/step - loss: 0.1772 - accuracy: 0.9288 - val_loss: 0.4544 - val_accuracy: 0.8457\n",
      "Epoch 10/10\n",
      "1597/1597 [==============================] - 9s 5ms/step - loss: 0.1658 - accuracy: 0.9344 - val_loss: 0.4920 - val_accuracy: 0.8468\n",
      "Epoch 1/10\n",
      "1597/1597 [==============================] - 9s 5ms/step - loss: 0.4047 - accuracy: 0.8085 - val_loss: 0.3357 - val_accuracy: 0.8538\n",
      "Epoch 2/10\n",
      "1597/1597 [==============================] - 7s 4ms/step - loss: 0.2937 - accuracy: 0.8773 - val_loss: 0.3311 - val_accuracy: 0.8557\n",
      "Epoch 3/10\n",
      "1597/1597 [==============================] - 7s 4ms/step - loss: 0.2354 - accuracy: 0.9061 - val_loss: 0.3552 - val_accuracy: 0.8516\n",
      "Epoch 4/10\n",
      "1597/1597 [==============================] - 7s 4ms/step - loss: 0.1802 - accuracy: 0.9320 - val_loss: 0.4087 - val_accuracy: 0.8467\n",
      "Epoch 5/10\n",
      "1597/1597 [==============================] - 7s 4ms/step - loss: 0.1380 - accuracy: 0.9502 - val_loss: 0.4536 - val_accuracy: 0.8387\n",
      "Epoch 6/10\n",
      "1597/1597 [==============================] - 7s 5ms/step - loss: 0.1075 - accuracy: 0.9630 - val_loss: 0.5331 - val_accuracy: 0.8369\n",
      "Epoch 7/10\n",
      "1597/1597 [==============================] - 7s 5ms/step - loss: 0.0889 - accuracy: 0.9696 - val_loss: 0.6121 - val_accuracy: 0.8313\n",
      "Epoch 8/10\n",
      "1597/1597 [==============================] - 7s 5ms/step - loss: 0.0769 - accuracy: 0.9742 - val_loss: 0.6072 - val_accuracy: 0.8280\n",
      "Epoch 9/10\n",
      "1597/1597 [==============================] - 7s 5ms/step - loss: 0.0672 - accuracy: 0.9774 - val_loss: 0.7082 - val_accuracy: 0.8303\n",
      "Epoch 10/10\n",
      "1597/1597 [==============================] - 7s 4ms/step - loss: 0.0611 - accuracy: 0.9793 - val_loss: 0.7336 - val_accuracy: 0.8259\n",
      "Epoch 1/10\n",
      "1597/1597 [==============================] - 6s 3ms/step - loss: 0.4428 - accuracy: 0.8006 - val_loss: 0.3596 - val_accuracy: 0.8422\n",
      "Epoch 2/10\n",
      "1597/1597 [==============================] - 6s 4ms/step - loss: 0.3293 - accuracy: 0.8590 - val_loss: 0.3499 - val_accuracy: 0.8461\n",
      "Epoch 3/10\n",
      "1597/1597 [==============================] - 6s 4ms/step - loss: 0.2923 - accuracy: 0.8779 - val_loss: 0.3556 - val_accuracy: 0.8452\n",
      "Epoch 4/10\n",
      "1597/1597 [==============================] - 5s 3ms/step - loss: 0.2669 - accuracy: 0.8898 - val_loss: 0.3662 - val_accuracy: 0.8450\n",
      "Epoch 5/10\n",
      "1597/1597 [==============================] - 5s 3ms/step - loss: 0.2470 - accuracy: 0.8992 - val_loss: 0.3779 - val_accuracy: 0.8427\n",
      "Epoch 6/10\n",
      "1597/1597 [==============================] - 5s 3ms/step - loss: 0.2299 - accuracy: 0.9071 - val_loss: 0.3925 - val_accuracy: 0.8404\n",
      "Epoch 7/10\n",
      "1597/1597 [==============================] - 5s 3ms/step - loss: 0.2162 - accuracy: 0.9140 - val_loss: 0.4077 - val_accuracy: 0.8395\n",
      "Epoch 8/10\n",
      "1597/1597 [==============================] - 5s 3ms/step - loss: 0.2036 - accuracy: 0.9203 - val_loss: 0.4239 - val_accuracy: 0.8371\n",
      "Epoch 9/10\n",
      "1597/1597 [==============================] - 5s 3ms/step - loss: 0.1930 - accuracy: 0.9256 - val_loss: 0.4385 - val_accuracy: 0.8350\n",
      "Epoch 10/10\n",
      "1597/1597 [==============================] - 5s 3ms/step - loss: 0.1835 - accuracy: 0.9303 - val_loss: 0.4632 - val_accuracy: 0.8324\n"
     ]
    }
   ],
   "source": [
    "model_rnn.compile(optimizer='adam',\n",
    "              loss='binary_crossentropy',\n",
    "              metrics=['accuracy'])\n",
    "\n",
    "model_cnn.compile(optimizer='adam',\n",
    "              loss='binary_crossentropy',\n",
    "              metrics=['accuracy'])\n",
    "\n",
    "model_gmp.compile(optimizer='adam',\n",
    "              loss='binary_crossentropy',\n",
    "              metrics=['accuracy'])\n",
    "              \n",
    "epochs=10  # 몇 epoch를 훈련하면 좋을지 결과를 보면서 바꾸어 봅시다. \n",
    "\n",
    "hist_rnn = model_rnn.fit(x_train,\n",
    "                    y_train,\n",
    "                    epochs=epochs,\n",
    "                    batch_size=64,\n",
    "                    validation_data=(x_val, y_val),\n",
    "                    verbose=1)\n",
    "\n",
    "hist_cnn = model_cnn.fit(x_train,\n",
    "                    y_train,\n",
    "                    epochs=epochs,\n",
    "                    batch_size=64,\n",
    "                    validation_data=(x_val, y_val),\n",
    "                    verbose=1)\n",
    "\n",
    "hist_gmp = model_gmp.fit(x_train,\n",
    "                    y_train,\n",
    "                    epochs=epochs,\n",
    "                    batch_size=64,\n",
    "                    validation_data=(x_val, y_val),\n",
    "                    verbose=1)"
   ]
  },
  {
   "cell_type": "markdown",
   "id": "93adcfd9",
   "metadata": {},
   "source": [
    "## 5) 모델 훈련 개시"
   ]
  },
  {
   "cell_type": "code",
   "execution_count": 15,
   "id": "796bdb79",
   "metadata": {},
   "outputs": [
    {
     "name": "stdout",
     "output_type": "stream",
     "text": [
      "1537/1537 - 3s - loss: 0.5022 - accuracy: 0.8416\n",
      "1537/1537 - 2s - loss: 0.7400 - accuracy: 0.8239\n",
      "1537/1537 - 2s - loss: 0.4769 - accuracy: 0.8266\n",
      "rnn :  [0.5022367238998413, 0.8415688276290894]\n",
      "cnn :  [0.7399734258651733, 0.8238908052444458]\n",
      "gmp :  [0.4769218862056732, 0.8266167640686035]\n"
     ]
    }
   ],
   "source": [
    "results_rnn = model_rnn.evaluate(X_test,  y_test, verbose=2)\n",
    "results_cnn = model_cnn.evaluate(X_test,  y_test, verbose=2)\n",
    "results_gmp = model_gmp.evaluate(X_test,  y_test, verbose=2)\n",
    "\n",
    "print(\"rnn : \", results_rnn)\n",
    "print(\"cnn : \", results_cnn)\n",
    "print(\"gmp : \", results_gmp)"
   ]
  },
  {
   "cell_type": "markdown",
   "id": "154c3239",
   "metadata": {},
   "source": [
    "## 6) Loss, Accuracy 그래프 시각화"
   ]
  },
  {
   "cell_type": "code",
   "execution_count": 16,
   "id": "a6861fd5",
   "metadata": {},
   "outputs": [
    {
     "data": {
      "image/png": "[encoded data removed]",
      "text/plain": [
       "<Figure size 1080x288 with 2 Axes>"
      ]
     },
     "metadata": {
      "needs_background": "light"
     },
     "output_type": "display_data"
    }
   ],
   "source": [
    "%matplotlib inline\n",
    "plt.figure(figsize=(15,4))\n",
    "plt.suptitle('RNN')\n",
    "epochs = range(1, len(hist_rnn.history['accuracy']) + 1)\n",
    "\n",
    "# loss 그래프\n",
    "plt.subplot(1,2,1)\n",
    "plt.plot(epochs, hist_rnn.history['loss'], 'r', label = 'train loss')\n",
    "plt.plot(epochs, hist_rnn.history['val_loss'], 'b', label='val loss')\n",
    "plt.xlabel('epochs')\n",
    "plt.ylabel('loss')\n",
    "plt.legend()\n",
    "\n",
    "# accuracy 그래프\n",
    "plt.subplot(1,2,2)\n",
    "plt.plot(epochs, hist_rnn.history['accuracy'], 'r', label='train accuracy')\n",
    "plt.plot(epochs, hist_rnn.history['val_accuracy'], 'b', label='val accuracy')\n",
    "plt.xlabel('epochs')\n",
    "plt.ylabel('accuracy')\n",
    "plt.legend()\n",
    "\n",
    "plt.show()"
   ]
  },
  {
   "cell_type": "code",
   "execution_count": 17,
   "id": "9ed2fa65",
   "metadata": {},
   "outputs": [
    {
     "data": {
      "image/png": "[encoded data removed]",
      "text/plain": [
       "<Figure size 1080x288 with 2 Axes>"
      ]
     },
     "metadata": {
      "needs_background": "light"
     },
     "output_type": "display_data"
    }
   ],
   "source": [
    "%matplotlib inline\n",
    "plt.figure(figsize=(15,4))\n",
    "plt.suptitle('CNN')\n",
    "epochs = range(1, len(hist_rnn.history['accuracy']) + 1)\n",
    "\n",
    "plt.subplot(1,2,1)\n",
    "plt.plot(epochs, hist_cnn.history['loss'], 'r', label = 'train loss')\n",
    "plt.plot(epochs, hist_cnn.history['val_loss'], 'b', label='val loss')\n",
    "plt.xlabel('epochs')\n",
    "plt.ylabel('loss')\n",
    "plt.legend()\n",
    "\n",
    "plt.subplot(1,2,2)\n",
    "plt.plot(epochs, hist_cnn.history['accuracy'], 'r', label='train accuracy')\n",
    "plt.plot(epochs, hist_cnn.history['val_accuracy'], 'b', label='val accuracy')\n",
    "plt.xlabel('epochs')\n",
    "plt.ylabel('accuracy')\n",
    "plt.legend()\n",
    "\n",
    "plt.show()"
   ]
  },
  {
   "cell_type": "code",
   "execution_count": 18,
   "id": "cb26865f",
   "metadata": {},
   "outputs": [
    {
     "data": {
      "image/png": "[encoded data removed]",
      "text/plain": [
       "<Figure size 1080x288 with 2 Axes>"
      ]
     },
     "metadata": {
      "needs_background": "light"
     },
     "output_type": "display_data"
    }
   ],
   "source": [
    "%matplotlib inline\n",
    "plt.figure(figsize=(15,4))\n",
    "plt.suptitle('GlobalMaxPooling')\n",
    "epochs = range(1, len(hist_rnn.history['accuracy']) + 1)\n",
    "\n",
    "# loss 그래프\n",
    "plt.subplot(1,2,1)\n",
    "plt.plot(epochs, hist_gmp.history['loss'], 'r', label = 'train loss')\n",
    "plt.plot(epochs, hist_gmp.history['val_loss'], 'b', label='val loss')\n",
    "plt.xlabel('epochs')\n",
    "plt.ylabel('loss')\n",
    "plt.legend()\n",
    "\n",
    "# accuracy 그래프\n",
    "plt.subplot(1,2,2)\n",
    "plt.plot(epochs, hist_gmp.history['accuracy'], 'r', label='train accuracy')\n",
    "plt.plot(epochs, hist_gmp.history['val_accuracy'], 'b', label='val accuracy')\n",
    "plt.xlabel('epochs')\n",
    "plt.ylabel('accuracy')\n",
    "plt.legend()\n",
    "\n",
    "plt.show()"
   ]
  },
  {
   "cell_type": "markdown",
   "id": "eb3c2bb4",
   "metadata": {},
   "source": [
    "## 7) 학습된 Embedding 레이어 분석"
   ]
  },
  {
   "cell_type": "code",
   "execution_count": 19,
   "id": "1e0fd565",
   "metadata": {},
   "outputs": [
    {
     "name": "stdout",
     "output_type": "stream",
     "text": [
      "(10000, 16)\n"
     ]
    }
   ],
   "source": [
    "embedding_layer = model_rnn.layers[0]\n",
    "weights = embedding_layer.get_weights()[0]\n",
    "print(weights.shape)    # shape: (vocab_size, embedding_dim)"
   ]
  },
  {
   "cell_type": "code",
   "execution_count": 20,
   "id": "c46931c9",
   "metadata": {},
   "outputs": [],
   "source": [
    "# 학습한 Embedding 파라미터를 파일에 써서 저장합니다. \n",
    "word2vec_file_path = os.getenv('HOME')+'/aiffel/sentiment_classification/data/word2vec.txt'\n",
    "f = open(word2vec_file_path, 'w')\n",
    "f.write('{} {}\\n'.format(vocab_size-4, word_vector_dim))  # 몇개의 벡터를 얼마 사이즈로 기재할지 타이틀을 씁니다.\n",
    "\n",
    "# 단어 개수(에서 특수문자 4개는 제외하고)만큼의 워드 벡터를 파일에 기록합니다. \n",
    "vectors = model_rnn.get_weights()[0]\n",
    "for i in range(4,vocab_size):\n",
    "    f.write('{} {}\\n'.format(index_to_word[i], ' '.join(map(str, list(vectors[i, :])))))\n",
    "f.close()"
   ]
  },
  {
   "cell_type": "markdown",
   "id": "0f49f916",
   "metadata": {},
   "source": [
    "## 8) 한국어 Word2Vec 임베딩 활용하여 성능 개선\n",
    "\n",
    "- 한국어 Word2Vec은 /data 폴더 안에 있는 word2vec_ko.model을 활용하세요.\n",
    "- 한국어 Word2Vec을 활용할 때는 load_word2vec_format() 형태가 아닌 load() 형태로 모델을 불러와주세요. 또한 모델을 활용할 때에는 아래 예시와 같이 .wv를 붙여서 활용합니다. 좀더 자세한 활용법에 대해선 다음 링크들을 참조해주세요"
   ]
  },
  {
   "cell_type": "code",
   "execution_count": 21,
   "id": "2bcec402",
   "metadata": {},
   "outputs": [
    {
     "data": {
      "text/plain": [
       "[('전해', 0.9573622345924377),\n",
       " ('참신', 0.949296236038208),\n",
       " ('사수', 0.9473133683204651),\n",
       " ('일깨워', 0.940320611000061),\n",
       " ('정점', 0.9401550889015198),\n",
       " ('순수', 0.9354608058929443),\n",
       " ('의외', 0.9328314065933228),\n",
       " ('추천', 0.9321061372756958),\n",
       " ('큐', 0.9308414459228516),\n",
       " ('명화', 0.9299296736717224)]"
      ]
     },
     "execution_count": 21,
     "metadata": {},
     "output_type": "execute_result"
    }
   ],
   "source": [
    "from gensim.models.keyedvectors import Word2VecKeyedVectors\n",
    "\n",
    "word_vectors = Word2VecKeyedVectors.load_word2vec_format(word2vec_file_path, binary=False)\n",
    "\n",
    "word_vectors.similar_by_word(\"사랑\")"
   ]
  },
  {
   "cell_type": "code",
   "execution_count": 22,
   "id": "811be8b4",
   "metadata": {},
   "outputs": [
    {
     "data": {
      "text/plain": [
       "[('오묘', 0.9618671536445618),\n",
       " ('손잡', 0.9591883420944214),\n",
       " ('젊음', 0.9378917217254639),\n",
       " ('무상', 0.9377568960189819),\n",
       " ('귀여우', 0.9239509105682373),\n",
       " ('느꼈', 0.9216328263282776),\n",
       " ('롤', 0.9210737943649292),\n",
       " ('쩐', 0.9202361106872559),\n",
       " ('무협', 0.9198287129402161),\n",
       " ('거울', 0.912383496761322)]"
      ]
     },
     "execution_count": 22,
     "metadata": {},
     "output_type": "execute_result"
    }
   ],
   "source": [
    "word_vectors.similar_by_word(\"이별\")"
   ]
  },
  {
   "cell_type": "code",
   "execution_count": 23,
   "id": "6790e6bf",
   "metadata": {},
   "outputs": [
    {
     "data": {
      "text/plain": [
       "[('무게', 0.9248569011688232),\n",
       " ('최강희', 0.9245568513870239),\n",
       " ('템포', 0.9219479560852051),\n",
       " ('브라이언', 0.9157190322875977),\n",
       " ('넘치', 0.9144980907440186),\n",
       " ('특별', 0.9132179617881775),\n",
       " ('맘', 0.9122899174690247),\n",
       " ('모세', 0.9116474390029907),\n",
       " ('제시', 0.9094777703285217),\n",
       " ('당함', 0.9094759225845337)]"
      ]
     },
     "execution_count": 23,
     "metadata": {},
     "output_type": "execute_result"
    }
   ],
   "source": [
    "word_vectors.similar_by_word(\"성공\")"
   ]
  },
  {
   "cell_type": "markdown",
   "id": "e94cabbd",
   "metadata": {},
   "source": [
    "- 상당히 부자연스럽다"
   ]
  },
  {
   "cell_type": "code",
   "execution_count": 24,
   "id": "9dded409",
   "metadata": {
    "scrolled": true
   },
   "outputs": [
    {
     "name": "stderr",
     "output_type": "stream",
     "text": [
      "/tmp/ipykernel_407/913311597.py:7: DeprecationWarning: Call to deprecated `__getitem__` (Method will be removed in 4.0.0, use self.wv.__getitem__() instead).\n",
      "  vector = word2vec['사랑']\n"
     ]
    },
    {
     "data": {
      "text/plain": [
       "(200,)"
      ]
     },
     "execution_count": 24,
     "metadata": {},
     "output_type": "execute_result"
    }
   ],
   "source": [
    "import gensim\n",
    "from gensim.models import KeyedVectors\n",
    "\n",
    "word2vec_path = os.getenv('HOME')+'/aiffel/sentiment_classification/data/ko.bin'\n",
    "\n",
    "word2vec = gensim.models.Word2Vec.load(word2vec_path)\n",
    "vector = word2vec['사랑']"
   ]
  },
  {
   "cell_type": "code",
   "execution_count": 25,
   "id": "6d4c38ff",
   "metadata": {},
   "outputs": [
    {
     "name": "stderr",
     "output_type": "stream",
     "text": [
      "/tmp/ipykernel_407/2370447260.py:2: DeprecationWarning: Call to deprecated `similar_by_word` (Method will be removed in 4.0.0, use self.wv.similar_by_word() instead).\n",
      "  word2vec.similar_by_word(\"성공\")\n"
     ]
    },
    {
     "data": {
      "text/plain": [
       "[('실패', 0.6856883764266968),\n",
       " ('대성공', 0.6117161512374878),\n",
       " ('주력', 0.5659711360931396),\n",
       " ('압승', 0.5545106530189514),\n",
       " ('흥행', 0.49906763434410095),\n",
       " ('공헌', 0.4934632182121277),\n",
       " ('성공적', 0.48284801840782166),\n",
       " ('승리', 0.46511217951774597),\n",
       " ('진력', 0.4633210301399231),\n",
       " ('그치', 0.4610019326210022)]"
      ]
     },
     "execution_count": 25,
     "metadata": {},
     "output_type": "execute_result"
    }
   ],
   "source": [
    "# 메모리를 다소 많이 소비하는 작업이니 유의해 주세요.\n",
    "word2vec.similar_by_word(\"성공\")"
   ]
  },
  {
   "cell_type": "code",
   "execution_count": 26,
   "id": "0a4397e5",
   "metadata": {},
   "outputs": [
    {
     "name": "stderr",
     "output_type": "stream",
     "text": [
      "/tmp/ipykernel_407/1195740980.py:1: DeprecationWarning: Call to deprecated `similar_by_word` (Method will be removed in 4.0.0, use self.wv.similar_by_word() instead).\n",
      "  word2vec.similar_by_word(\"이별\")\n"
     ]
    },
    {
     "data": {
      "text/plain": [
       "[('헤어지', 0.6900225877761841),\n",
       " ('슬픔', 0.6873862147331238),\n",
       " ('추억', 0.6457439661026001),\n",
       " ('슬프', 0.6412862539291382),\n",
       " ('재회', 0.6345380544662476),\n",
       " ('사랑', 0.6334798336029053),\n",
       " ('첫사랑', 0.6128619909286499),\n",
       " ('고독', 0.6117805242538452),\n",
       " ('절망', 0.5997450947761536),\n",
       " ('작별', 0.5857374668121338)]"
      ]
     },
     "execution_count": 26,
     "metadata": {},
     "output_type": "execute_result"
    }
   ],
   "source": [
    "word2vec.similar_by_word(\"이별\")"
   ]
  },
  {
   "cell_type": "markdown",
   "id": "24511d33",
   "metadata": {},
   "source": [
    "- 확실히 아까보다 단어와 비슷한 부류, 느낌으로 나타내는 것을 볼 수 있다."
   ]
  },
  {
   "cell_type": "code",
   "execution_count": 28,
   "id": "5f2fbac5",
   "metadata": {},
   "outputs": [
    {
     "name": "stderr",
     "output_type": "stream",
     "text": [
      "/tmp/ipykernel_407/1730871920.py:7: DeprecationWarning: Call to deprecated `__contains__` (Method will be removed in 4.0.0, use self.wv.__contains__() instead).\n",
      "  if index_to_word[i] in word2vec:\n",
      "/tmp/ipykernel_407/1730871920.py:8: DeprecationWarning: Call to deprecated `__getitem__` (Method will be removed in 4.0.0, use self.wv.__getitem__() instead).\n",
      "  embedding_matrix[i] = word2vec[index_to_word[i]]\n"
     ]
    }
   ],
   "source": [
    "vocab_size = 10000    # 어휘 사전의 크기입니다(10,000개의 단어)\n",
    "word_vector_dim = 200  # 워드 벡터의 차원수\n",
    "embedding_matrix = np.random.rand(vocab_size, word_vector_dim)\n",
    "\n",
    "# embedding_matrix에 Word2Vec 워드 벡터를 단어 하나씩마다 차례차례 카피한다.\n",
    "for i in range(4,vocab_size):\n",
    "    if index_to_word[i] in word2vec:\n",
    "        embedding_matrix[i] = word2vec[index_to_word[i]]"
   ]
  },
  {
   "cell_type": "code",
   "execution_count": 38,
   "id": "3cae83a9",
   "metadata": {},
   "outputs": [
    {
     "name": "stdout",
     "output_type": "stream",
     "text": [
      "Model: \"sequential_5\"\n",
      "_________________________________________________________________\n",
      "Layer (type)                 Output Shape              Param #   \n",
      "=================================================================\n",
      "embedding_5 (Embedding)      (None, 41, 200)           2000000   \n",
      "_________________________________________________________________\n",
      "lstm_2 (LSTM)                (None, 16)                13888     \n",
      "_________________________________________________________________\n",
      "dropout (Dropout)            (None, 16)                0         \n",
      "_________________________________________________________________\n",
      "dense_10 (Dense)             (None, 8)                 136       \n",
      "_________________________________________________________________\n",
      "dense_11 (Dense)             (None, 1)                 9         \n",
      "=================================================================\n",
      "Total params: 2,014,033\n",
      "Trainable params: 2,014,033\n",
      "Non-trainable params: 0\n",
      "_________________________________________________________________\n"
     ]
    }
   ],
   "source": [
    "from tensorflow.keras.initializers import Constant\n",
    "\n",
    "vocab_size = 10000    # 어휘 사전의 크기입니다(10,000개의 단어)\n",
    "word_vector_dim = 200  # 워드 벡터의 차원 수 \n",
    "\n",
    "# 모델 구성\n",
    "model = tf.keras.Sequential()\n",
    "model.add(tf.keras.layers.Embedding(vocab_size, \n",
    "                                 word_vector_dim, \n",
    "                                 embeddings_initializer=Constant(embedding_matrix),  # 카피한 임베딩을 여기서 활용\n",
    "                                 input_length=maxlen, \n",
    "                                 trainable=True))   # trainable을 True로 주면 Fine-tuning\n",
    "model.add(tf.keras.layers.LSTM(16))   # 가장 널리 쓰이는 RNN인 LSTM 레이어를 사용하였습니다. 이때 LSTM state 벡터의 차원수는 8로 하였습니다. (변경 가능)\n",
    "model.add(tf.keras.layers.Dropout(0.2))\n",
    "model.add(tf.keras.layers.Dense(8, activation='relu'))\n",
    "model.add(tf.keras.layers.Dense(1, activation='sigmoid'))  # 최종 출력은 긍정/부정을 나타내는 1dim 입니다.\n",
    "\n",
    "model.summary()"
   ]
  },
  {
   "cell_type": "code",
   "execution_count": 39,
   "id": "3b205d17",
   "metadata": {
    "scrolled": true
   },
   "outputs": [
    {
     "name": "stdout",
     "output_type": "stream",
     "text": [
      "Epoch 1/5\n",
      "1597/1597 [==============================] - 11s 6ms/step - loss: 0.4341 - accuracy: 0.7982 - val_loss: 0.3636 - val_accuracy: 0.8392\n",
      "Epoch 2/5\n",
      "1597/1597 [==============================] - 10s 6ms/step - loss: 0.3307 - accuracy: 0.8599 - val_loss: 0.3350 - val_accuracy: 0.8537\n",
      "Epoch 3/5\n",
      "1597/1597 [==============================] - 9s 6ms/step - loss: 0.2952 - accuracy: 0.8775 - val_loss: 0.3297 - val_accuracy: 0.8595\n",
      "Epoch 4/5\n",
      "1597/1597 [==============================] - 10s 6ms/step - loss: 0.2680 - accuracy: 0.8909 - val_loss: 0.3359 - val_accuracy: 0.8590\n",
      "Epoch 5/5\n",
      "1597/1597 [==============================] - 10s 6ms/step - loss: 0.2444 - accuracy: 0.9009 - val_loss: 0.3420 - val_accuracy: 0.8604\n"
     ]
    }
   ],
   "source": [
    "# 학습의 진행\n",
    "model.compile(optimizer='adam',\n",
    "              loss='binary_crossentropy',\n",
    "              metrics=['accuracy'])\n",
    "              \n",
    "epochs=5  # 몇 epoch를 훈련하면 좋을지 결과를 보면서 바꾸어 봅시다. \n",
    "\n",
    "history = model.fit(x_train,\n",
    "                    y_train,\n",
    "                    epochs=epochs,\n",
    "                    batch_size=64,\n",
    "                    validation_data=(x_val, y_val),\n",
    "                    verbose=1)"
   ]
  },
  {
   "cell_type": "code",
   "execution_count": 40,
   "id": "3f25e7b3",
   "metadata": {},
   "outputs": [
    {
     "name": "stdout",
     "output_type": "stream",
     "text": [
      "1537/1537 - 3s - loss: 0.3580 - accuracy: 0.8526\n",
      "[0.35799795389175415, 0.8525744080543518]\n"
     ]
    }
   ],
   "source": [
    "# 테스트셋을 통한 모델 평가\n",
    "results = model.evaluate(X_test,  y_test, verbose=2)\n",
    "\n",
    "print(results)"
   ]
  },
  {
   "cell_type": "markdown",
   "id": "39ba4227",
   "metadata": {},
   "source": [
    "- 정확도 : 85%이상이 나왔다"
   ]
  },
  {
   "cell_type": "code",
   "execution_count": 43,
   "id": "fcc1bca4",
   "metadata": {},
   "outputs": [
    {
     "data": {
      "image/png": "[encoded data removed]",
      "text/plain": [
       "<Figure size 1080x288 with 2 Axes>"
      ]
     },
     "metadata": {
      "needs_background": "light"
     },
     "output_type": "display_data"
    }
   ],
   "source": [
    "%matplotlib inline\n",
    "plt.figure(figsize=(15,4))\n",
    "plt.suptitle('Model')\n",
    "epochs = range(1, len(history.history['accuracy']) + 1)\n",
    "\n",
    "# loss 그래프\n",
    "plt.subplot(1,2,1)\n",
    "plt.plot(epochs, history.history['loss'], 'r', label = 'train loss')\n",
    "plt.plot(epochs, history.history['val_loss'], 'b', label='val loss')\n",
    "plt.xlabel('epochs')\n",
    "plt.ylabel('loss')\n",
    "plt.legend()\n",
    "\n",
    "# accuracy 그래프\n",
    "plt.subplot(1,2,2)\n",
    "plt.plot(epochs, history.history['accuracy'], 'r', label='train accuracy')\n",
    "plt.plot(epochs, history.history['val_accuracy'], 'b', label='val accuracy')\n",
    "plt.xlabel('epochs')\n",
    "plt.ylabel('accuracy')\n",
    "plt.legend()\n",
    "\n",
    "plt.show()"
   ]
  },
  {
   "cell_type": "markdown",
   "id": "d0eb3bc9",
   "metadata": {},
   "source": [
    "# 회고\n",
    " - 어.. 생각보다 쉽지않았다...\n",
    "  "
   ]
  },
  {
   "cell_type": "code",
   "execution_count": null,
   "id": "b4a79138",
   "metadata": {},
   "outputs": [],
   "source": []
  }
 ],
 "metadata": {
  "kernelspec": {
   "display_name": "Python 3 (ipykernel)",
   "language": "python",
   "name": "python3"
  },
  "language_info": {
   "codemirror_mode": {
    "name": "ipython",
    "version": 3
   },
   "file_extension": ".py",
   "mimetype": "text/x-python",
   "name": "python",
   "nbconvert_exporter": "python",
   "pygments_lexer": "ipython3",
   "version": "3.9.7"
  }
 },
 "nbformat": 4,
 "nbformat_minor": 5
}
