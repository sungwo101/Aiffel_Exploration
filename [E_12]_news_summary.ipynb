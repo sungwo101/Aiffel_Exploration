{
 "cells": [
  {
   "cell_type": "markdown",
   "id": "f41e1daf",
   "metadata": {},
   "source": [
    "## 프로젝트: 뉴스기사 요약"
   ]
  },
  {
   "cell_type": "code",
   "execution_count": 1,
   "id": "04bd14f8",
   "metadata": {},
   "outputs": [
    {
     "name": "stderr",
     "output_type": "stream",
     "text": [
      "[nltk_data] Downloading package stopwords to /aiffel/nltk_data...\n",
      "[nltk_data]   Package stopwords is already up-to-date!\n"
     ]
    },
    {
     "name": "stdout",
     "output_type": "stream",
     "text": [
      "3.6.5\n",
      "2.6.0\n",
      "1.2.0\n"
     ]
    }
   ],
   "source": [
    "from importlib.metadata import version\n",
    "import nltk\n",
    "import tensorflow\n",
    "import summa\n",
    "\n",
    "nltk.download('stopwords')\n",
    "\n",
    "import numpy as np\n",
    "import pandas as pd\n",
    "import os\n",
    "import re\n",
    "import matplotlib.pyplot as plt\n",
    "from nltk.corpus import stopwords\n",
    "from bs4 import BeautifulSoup \n",
    "from tensorflow.keras.preprocessing.text import Tokenizer \n",
    "from tensorflow.keras.preprocessing.sequence import pad_sequences\n",
    "import urllib.request\n",
    "import warnings\n",
    "warnings.filterwarnings(\"ignore\", category=UserWarning, module='bs4')\n",
    "\n",
    "print(nltk.__version__)\n",
    "print(tensorflow.__version__)\n",
    "print(version('summa'))"
   ]
  },
  {
   "cell_type": "code",
   "execution_count": 2,
   "id": "062b02b5",
   "metadata": {},
   "outputs": [],
   "source": [
    "import urllib.request\n",
    "urllib.request.urlretrieve(\"https://raw.githubusercontent.com/sunnysai12345/News_Summary/master/news_summary_more.csv\", filename=\"news_summary_more.csv\")\n",
    "data = pd.read_csv('news_summary_more.csv', encoding='iso-8859-1')\n",
    "summa_data = data.copy()"
   ]
  },
  {
   "cell_type": "code",
   "execution_count": 3,
   "id": "987da951",
   "metadata": {},
   "outputs": [
    {
     "data": {
      "text/html": [
       "<div>\n",
       "<style scoped>\n",
       "    .dataframe tbody tr th:only-of-type {\n",
       "        vertical-align: middle;\n",
       "    }\n",
       "\n",
       "    .dataframe tbody tr th {\n",
       "        vertical-align: top;\n",
       "    }\n",
       "\n",
       "    .dataframe thead th {\n",
       "        text-align: right;\n",
       "    }\n",
       "</style>\n",
       "<table border=\"1\" class=\"dataframe\">\n",
       "  <thead>\n",
       "    <tr style=\"text-align: right;\">\n",
       "      <th></th>\n",
       "      <th>headlines</th>\n",
       "      <th>text</th>\n",
       "    </tr>\n",
       "  </thead>\n",
       "  <tbody>\n",
       "    <tr>\n",
       "      <th>80832</th>\n",
       "      <td>Ranveer chops off beard, moustache on live Ins...</td>\n",
       "      <td>Ranveer Singh chopped off his beard and long m...</td>\n",
       "    </tr>\n",
       "    <tr>\n",
       "      <th>33625</th>\n",
       "      <td>Felt sorry for Aussies, especially Smith: ABD ...</td>\n",
       "      <td>South African batsman AB de Villiers said he f...</td>\n",
       "    </tr>\n",
       "    <tr>\n",
       "      <th>8250</th>\n",
       "      <td>OYO and Paytm come together to 'Let The Travel...</td>\n",
       "      <td>#LetTheTravelBegin campaign is OYO's way of we...</td>\n",
       "    </tr>\n",
       "    <tr>\n",
       "      <th>52345</th>\n",
       "      <td>India drop SA's Rabada twice on consecutive balls</td>\n",
       "      <td>South African cricketer Kagiso Rabada was drop...</td>\n",
       "    </tr>\n",
       "    <tr>\n",
       "      <th>29700</th>\n",
       "      <td>Delhi asks 575 schools to refund excess fee wi...</td>\n",
       "      <td>The Delhi government has directed 575 private ...</td>\n",
       "    </tr>\n",
       "    <tr>\n",
       "      <th>91073</th>\n",
       "      <td>Tesla executive ousted after clash with Elon M...</td>\n",
       "      <td>According to a Reuters report, Tesla executive...</td>\n",
       "    </tr>\n",
       "    <tr>\n",
       "      <th>93978</th>\n",
       "      <td>Triple talaq will be ended in under 2 yrs: Mus...</td>\n",
       "      <td>Quoting a resolution passed by the All India M...</td>\n",
       "    </tr>\n",
       "    <tr>\n",
       "      <th>44061</th>\n",
       "      <td>Man posing as Uber driver abducts, harasses wo...</td>\n",
       "      <td>A man posing to be Uber driver was arrested fo...</td>\n",
       "    </tr>\n",
       "    <tr>\n",
       "      <th>33138</th>\n",
       "      <td>Maha farmers to distribute free milk to protes...</td>\n",
       "      <td>Farmers in Maharashtra's Aurangabad have decid...</td>\n",
       "    </tr>\n",
       "    <tr>\n",
       "      <th>66405</th>\n",
       "      <td>Irrfan Khan wears skirts in a shoot for GQ India</td>\n",
       "      <td>Actor Irrfan Khan has worn skirts in a photosh...</td>\n",
       "    </tr>\n",
       "  </tbody>\n",
       "</table>\n",
       "</div>"
      ],
      "text/plain": [
       "                                               headlines  \\\n",
       "80832  Ranveer chops off beard, moustache on live Ins...   \n",
       "33625  Felt sorry for Aussies, especially Smith: ABD ...   \n",
       "8250   OYO and Paytm come together to 'Let The Travel...   \n",
       "52345  India drop SA's Rabada twice on consecutive balls   \n",
       "29700  Delhi asks 575 schools to refund excess fee wi...   \n",
       "91073  Tesla executive ousted after clash with Elon M...   \n",
       "93978  Triple talaq will be ended in under 2 yrs: Mus...   \n",
       "44061  Man posing as Uber driver abducts, harasses wo...   \n",
       "33138  Maha farmers to distribute free milk to protes...   \n",
       "66405   Irrfan Khan wears skirts in a shoot for GQ India   \n",
       "\n",
       "                                                    text  \n",
       "80832  Ranveer Singh chopped off his beard and long m...  \n",
       "33625  South African batsman AB de Villiers said he f...  \n",
       "8250   #LetTheTravelBegin campaign is OYO's way of we...  \n",
       "52345  South African cricketer Kagiso Rabada was drop...  \n",
       "29700  The Delhi government has directed 575 private ...  \n",
       "91073  According to a Reuters report, Tesla executive...  \n",
       "93978  Quoting a resolution passed by the All India M...  \n",
       "44061  A man posing to be Uber driver was arrested fo...  \n",
       "33138  Farmers in Maharashtra's Aurangabad have decid...  \n",
       "66405  Actor Irrfan Khan has worn skirts in a photosh...  "
      ]
     },
     "execution_count": 3,
     "metadata": {},
     "output_type": "execute_result"
    }
   ],
   "source": [
    "data.sample(10)"
   ]
  },
  {
   "cell_type": "code",
   "execution_count": 4,
   "id": "ce5bc50a",
   "metadata": {},
   "outputs": [
    {
     "data": {
      "text/plain": [
       "98401"
      ]
     },
     "execution_count": 4,
     "metadata": {},
     "output_type": "execute_result"
    }
   ],
   "source": [
    "len(data)"
   ]
  },
  {
   "cell_type": "markdown",
   "id": "ced39f1f",
   "metadata": {},
   "source": [
    "이 데이터는 기사의 본문에 해당되는 text와 headlines 두 가지 열로 구성되어져 있습니다.\n",
    "\n",
    "추상적 요약을 하는 경우에는 text를 본문, headlines를 이미 요약된 데이터로 삼아서 모델을 학습할 수 있어요. 추출적 요약을 하는 경우에는 오직 text열만을 사용하세요."
   ]
  },
  {
   "cell_type": "markdown",
   "id": "f5a002a4",
   "metadata": {},
   "source": [
    "### 데이터 전처리하기 (추상적 요약)"
   ]
  },
  {
   "cell_type": "code",
   "execution_count": 5,
   "id": "43fbc825",
   "metadata": {},
   "outputs": [
    {
     "name": "stdout",
     "output_type": "stream",
     "text": [
      "Text 열에서 중복을 배제한 유일한 샘플의 수 : 98360\n",
      "Headlines 열에서 중복을 배제한 유일한 샘플의 수 : 98280\n"
     ]
    }
   ],
   "source": [
    "print('Text 열에서 중복을 배제한 유일한 샘플의 수 :', data['text'].nunique())\n",
    "print('Headlines 열에서 중복을 배제한 유일한 샘플의 수 :', data['headlines'].nunique())"
   ]
  },
  {
   "cell_type": "code",
   "execution_count": 6,
   "id": "b27a14a2",
   "metadata": {},
   "outputs": [
    {
     "name": "stdout",
     "output_type": "stream",
     "text": [
      "전체 샘플수 : 98360\n"
     ]
    }
   ],
   "source": [
    "data.drop_duplicates(subset = ['text'], inplace=True)\n",
    "print('전체 샘플수 :', (len(data)))"
   ]
  },
  {
   "cell_type": "code",
   "execution_count": 7,
   "id": "1c712cd5",
   "metadata": {},
   "outputs": [
    {
     "name": "stdout",
     "output_type": "stream",
     "text": [
      "headlines    0\n",
      "text         0\n",
      "dtype: int64\n"
     ]
    }
   ],
   "source": [
    "print(data.isnull().sum())"
   ]
  },
  {
   "cell_type": "code",
   "execution_count": 8,
   "id": "80e6ec70",
   "metadata": {},
   "outputs": [
    {
     "name": "stdout",
     "output_type": "stream",
     "text": [
      "정규화 사전의 수:  120\n"
     ]
    }
   ],
   "source": [
    "contractions = {\"ain't\": \"is not\", \"aren't\": \"are not\",\"can't\": \"cannot\", \"'cause\": \"because\", \"could've\": \"could have\", \"couldn't\": \"could not\",\n",
    "                           \"didn't\": \"did not\",  \"doesn't\": \"does not\", \"don't\": \"do not\", \"hadn't\": \"had not\", \"hasn't\": \"has not\", \"haven't\": \"have not\",\n",
    "                           \"he'd\": \"he would\",\"he'll\": \"he will\", \"he's\": \"he is\", \"how'd\": \"how did\", \"how'd'y\": \"how do you\", \"how'll\": \"how will\", \"how's\": \"how is\",\n",
    "                           \"I'd\": \"I would\", \"I'd've\": \"I would have\", \"I'll\": \"I will\", \"I'll've\": \"I will have\",\"I'm\": \"I am\", \"I've\": \"I have\", \"i'd\": \"i would\",\n",
    "                           \"i'd've\": \"i would have\", \"i'll\": \"i will\",  \"i'll've\": \"i will have\",\"i'm\": \"i am\", \"i've\": \"i have\", \"isn't\": \"is not\", \"it'd\": \"it would\",\n",
    "                           \"it'd've\": \"it would have\", \"it'll\": \"it will\", \"it'll've\": \"it will have\",\"it's\": \"it is\", \"let's\": \"let us\", \"ma'am\": \"madam\",\n",
    "                           \"mayn't\": \"may not\", \"might've\": \"might have\",\"mightn't\": \"might not\",\"mightn't've\": \"might not have\", \"must've\": \"must have\",\n",
    "                           \"mustn't\": \"must not\", \"mustn't've\": \"must not have\", \"needn't\": \"need not\", \"needn't've\": \"need not have\",\"o'clock\": \"of the clock\",\n",
    "                           \"oughtn't\": \"ought not\", \"oughtn't've\": \"ought not have\", \"shan't\": \"shall not\", \"sha'n't\": \"shall not\", \"shan't've\": \"shall not have\",\n",
    "                           \"she'd\": \"she would\", \"she'd've\": \"she would have\", \"she'll\": \"she will\", \"she'll've\": \"she will have\", \"she's\": \"she is\",\n",
    "                           \"should've\": \"should have\", \"shouldn't\": \"should not\", \"shouldn't've\": \"should not have\", \"so've\": \"so have\",\"so's\": \"so as\",\n",
    "                           \"this's\": \"this is\",\"that'd\": \"that would\", \"that'd've\": \"that would have\", \"that's\": \"that is\", \"there'd\": \"there would\",\n",
    "                           \"there'd've\": \"there would have\", \"there's\": \"there is\", \"here's\": \"here is\",\"they'd\": \"they would\", \"they'd've\": \"they would have\",\n",
    "                           \"they'll\": \"they will\", \"they'll've\": \"they will have\", \"they're\": \"they are\", \"they've\": \"they have\", \"to've\": \"to have\",\n",
    "                           \"wasn't\": \"was not\", \"we'd\": \"we would\", \"we'd've\": \"we would have\", \"we'll\": \"we will\", \"we'll've\": \"we will have\", \"we're\": \"we are\",\n",
    "                           \"we've\": \"we have\", \"weren't\": \"were not\", \"what'll\": \"what will\", \"what'll've\": \"what will have\", \"what're\": \"what are\",\n",
    "                           \"what's\": \"what is\", \"what've\": \"what have\", \"when's\": \"when is\", \"when've\": \"when have\", \"where'd\": \"where did\", \"where's\": \"where is\",\n",
    "                           \"where've\": \"where have\", \"who'll\": \"who will\", \"who'll've\": \"who will have\", \"who's\": \"who is\", \"who've\": \"who have\",\n",
    "                           \"why's\": \"why is\", \"why've\": \"why have\", \"will've\": \"will have\", \"won't\": \"will not\", \"won't've\": \"will not have\",\n",
    "                           \"would've\": \"would have\", \"wouldn't\": \"would not\", \"wouldn't've\": \"would not have\", \"y'all\": \"you all\",\n",
    "                           \"y'all'd\": \"you all would\",\"y'all'd've\": \"you all would have\",\"y'all're\": \"you all are\",\"y'all've\": \"you all have\",\n",
    "                           \"you'd\": \"you would\", \"you'd've\": \"you would have\", \"you'll\": \"you will\", \"you'll've\": \"you will have\",\n",
    "                           \"you're\": \"you are\", \"you've\": \"you have\"}\n",
    "\n",
    "print(\"정규화 사전의 수: \", len(contractions))"
   ]
  },
  {
   "cell_type": "code",
   "execution_count": 9,
   "id": "9de8ace7",
   "metadata": {},
   "outputs": [
    {
     "name": "stdout",
     "output_type": "stream",
     "text": [
      "불용어 개수 : 179\n",
      "['i', 'me', 'my', 'myself', 'we', 'our', 'ours', 'ourselves', 'you', \"you're\", \"you've\", \"you'll\", \"you'd\", 'your', 'yours', 'yourself', 'yourselves', 'he', 'him', 'his', 'himself', 'she', \"she's\", 'her', 'hers', 'herself', 'it', \"it's\", 'its', 'itself', 'they', 'them', 'their', 'theirs', 'themselves', 'what', 'which', 'who', 'whom', 'this', 'that', \"that'll\", 'these', 'those', 'am', 'is', 'are', 'was', 'were', 'be', 'been', 'being', 'have', 'has', 'had', 'having', 'do', 'does', 'did', 'doing', 'a', 'an', 'the', 'and', 'but', 'if', 'or', 'because', 'as', 'until', 'while', 'of', 'at', 'by', 'for', 'with', 'about', 'against', 'between', 'into', 'through', 'during', 'before', 'after', 'above', 'below', 'to', 'from', 'up', 'down', 'in', 'out', 'on', 'off', 'over', 'under', 'again', 'further', 'then', 'once', 'here', 'there', 'when', 'where', 'why', 'how', 'all', 'any', 'both', 'each', 'few', 'more', 'most', 'other', 'some', 'such', 'no', 'nor', 'not', 'only', 'own', 'same', 'so', 'than', 'too', 'very', 's', 't', 'can', 'will', 'just', 'don', \"don't\", 'should', \"should've\", 'now', 'd', 'll', 'm', 'o', 're', 've', 'y', 'ain', 'aren', \"aren't\", 'couldn', \"couldn't\", 'didn', \"didn't\", 'doesn', \"doesn't\", 'hadn', \"hadn't\", 'hasn', \"hasn't\", 'haven', \"haven't\", 'isn', \"isn't\", 'ma', 'mightn', \"mightn't\", 'mustn', \"mustn't\", 'needn', \"needn't\", 'shan', \"shan't\", 'shouldn', \"shouldn't\", 'wasn', \"wasn't\", 'weren', \"weren't\", 'won', \"won't\", 'wouldn', \"wouldn't\"]\n"
     ]
    }
   ],
   "source": [
    "print('불용어 개수 :', len(stopwords.words('english') ))\n",
    "print(stopwords.words('english'))"
   ]
  },
  {
   "cell_type": "code",
   "execution_count": 10,
   "id": "72229e51",
   "metadata": {},
   "outputs": [],
   "source": [
    "# 데이터 전처리 함수\n",
    "def preprocess_sentence(sentence, remove_stopwords=True):\n",
    "    sentence = sentence.lower() # 텍스트 소문자화\n",
    "    sentence = BeautifulSoup(sentence, \"lxml\").text # <br />, <a href = ...> 등의 html 태그 제거\n",
    "    sentence = re.sub(r'\\([^)]*\\)', '', sentence) # 괄호로 닫힌 문자열 (...) 제거 Ex) my husband (and myself!) for => my husband for\n",
    "    sentence = re.sub('\"','', sentence) # 쌍따옴표 \" 제거\n",
    "    sentence = ' '.join([contractions[t] if t in contractions else t for t in sentence.split(\" \")]) # 약어 정규화\n",
    "    sentence = re.sub(r\"'s\\b\",\"\", sentence) # 소유격 제거. Ex) roland's -> roland\n",
    "    sentence = re.sub(\"[^a-zA-Z]\", \" \", sentence) # 영어 외 문자(숫자, 특수문자 등) 공백으로 변환\n",
    "    sentence = re.sub('[m]{2,}', 'mm', sentence) # m이 3개 이상이면 2개로 변경. Ex) ummmmmmm yeah -> umm yeah\n",
    "    \n",
    "    # 불용어 제거 (Text)\n",
    "    if remove_stopwords:\n",
    "        tokens = ' '.join(word for word in sentence.split() if not word in stopwords.words('english') if len(word) > 1)\n",
    "    # 불용어 미제거 (Summary)\n",
    "    else:\n",
    "        tokens = ' '.join(word for word in sentence.split() if len(word) > 1)\n",
    "    return tokens"
   ]
  },
  {
   "cell_type": "code",
   "execution_count": 11,
   "id": "b9f8df1d",
   "metadata": {},
   "outputs": [
    {
     "name": "stdout",
     "output_type": "stream",
     "text": [
      "text:  everything bought great infact ordered twice third ordered wasfor mother father\n",
      "headlines: great way to start the day\n"
     ]
    }
   ],
   "source": [
    "temp_text = 'Everything I bought was great, infact I ordered twice and the third ordered was<br />for my mother and father.'\n",
    "temp_headlines = 'Great way to start (or finish) the day!!!'\n",
    "\n",
    "print(\"text: \", preprocess_sentence(temp_text))\n",
    "print(\"headlines:\", preprocess_sentence(temp_headlines\t, False))  # 불용어를 제거하지 않습니다."
   ]
  },
  {
   "cell_type": "code",
   "execution_count": 12,
   "id": "cfabe7d9",
   "metadata": {},
   "outputs": [
    {
     "name": "stdout",
     "output_type": "stream",
     "text": [
      "Text 전처리 후 결과:  ['saurav kant alumnus upgrad iiit pg program machine learning artificial intelligence sr systems engineer infosys almost years work experience program upgrad degree career support helped transition data scientist tech mahindra salary hike upgrad online power learning powered lakh careers', 'kunal shah credit card bill payment platform cred gave users chance win free food swiggy one year pranav kaushik delhi techie bagged reward spending cred coins users get one cred coin per rupee bill paid used avail rewards brands like ixigo bookmyshow ubereats cult fit', 'new zealand defeated india wickets fourth odi hamilton thursday win first match five match odi series india lost international match rohit sharma captaincy consecutive victories dating back march match witnessed india getting seventh lowest total odi cricket history', 'aegon life iterm insurance plan customers enjoy tax benefits premiums paid save taxes plan provides life cover age years also customers options insure critical illnesses disability accidental death benefit rider life cover age years', 'speaking sexual harassment allegations rajkumar hirani sonam kapoor said known hirani many years true metoo movement get derailed metoo movement always believe woman case need reserve judgment added hirani accused assistant worked sanju']\n"
     ]
    }
   ],
   "source": [
    "clean_text = []\n",
    "# 전체 Text 데이터에 대한 전처리 : 10분 이상 시간이 걸릴 수 있습니다. \n",
    "for s in data['text']:\n",
    "    clean_text.append(preprocess_sentence(s))\n",
    "\n",
    "# 전처리 후 출력\n",
    "print(\"Text 전처리 후 결과: \", clean_text[:5])"
   ]
  },
  {
   "cell_type": "code",
   "execution_count": 13,
   "id": "9490b70b",
   "metadata": {},
   "outputs": [
    {
     "name": "stdout",
     "output_type": "stream",
     "text": [
      "headlines 전처리 후 결과:  ['upgrad learner switches to career in ml al with salary hike', 'delhi techie wins free food from swiggy for one year on cred', 'new zealand end rohit sharma led india match winning streak', 'aegon life iterm insurance plan helps customers save tax', 'have known hirani for yrs what if metoo claims are not true sonam']\n"
     ]
    }
   ],
   "source": [
    "clean_headlines = []\n",
    "# 전체 headlines 데이터에 대한 전처리 \n",
    "for s in data['headlines']:\n",
    "    clean_headlines.append(preprocess_sentence(s, False))\n",
    "\n",
    "print(\"headlines 전처리 후 결과: \", clean_headlines[:5])"
   ]
  },
  {
   "cell_type": "code",
   "execution_count": 14,
   "id": "17e39008",
   "metadata": {},
   "outputs": [],
   "source": [
    "data['text'] = clean_text\n",
    "data['headlines'] = clean_headlines\n",
    "\n",
    "# 빈 값을 Null 값으로 변환\n",
    "data.replace('', np.nan, inplace=True)"
   ]
  },
  {
   "cell_type": "code",
   "execution_count": 15,
   "id": "cb1049c2",
   "metadata": {},
   "outputs": [
    {
     "data": {
      "text/plain": [
       "headlines    0\n",
       "text         0\n",
       "dtype: int64"
      ]
     },
     "execution_count": 15,
     "metadata": {},
     "output_type": "execute_result"
    }
   ],
   "source": [
    "data.isnull().sum()"
   ]
  },
  {
   "cell_type": "markdown",
   "id": "7d1f3135",
   "metadata": {},
   "source": [
    "NULL값이 없기에 제거과정 생략"
   ]
  },
  {
   "cell_type": "code",
   "execution_count": 16,
   "id": "c0f9aabc",
   "metadata": {},
   "outputs": [],
   "source": [
    "# 새로 생긴 NULL값 제거\n",
    "# data.dropna(axis=0, inplace=True)\n",
    "# print('전체 샘플수 :', (len(data)))"
   ]
  },
  {
   "cell_type": "markdown",
   "id": "b4e8a6bc",
   "metadata": {},
   "source": [
    "## 훈련데이터와 테스트데이터 나누기"
   ]
  },
  {
   "cell_type": "code",
   "execution_count": 17,
   "id": "f7fb2cff",
   "metadata": {},
   "outputs": [
    {
     "name": "stdout",
     "output_type": "stream",
     "text": [
      "텍스트의 최소 길이 : 1\n",
      "텍스트의 최대 길이 : 60\n",
      "텍스트의 평균 길이 : 35.09968483123221\n",
      "요약의 최소 길이 : 1\n",
      "요약의 최대 길이 : 16\n",
      "요약의 평균 길이 : 9.299532330215534\n"
     ]
    },
    {
     "data": {
      "image/png": "[encoded data removed]",
      "text/plain": [
       "<Figure size 432x288 with 2 Axes>"
      ]
     },
     "metadata": {
      "needs_background": "light"
     },
     "output_type": "display_data"
    },
    {
     "data": {
      "image/png": "[encoded data removed]",
      "text/plain": [
       "<Figure size 432x288 with 1 Axes>"
      ]
     },
     "metadata": {
      "needs_background": "light"
     },
     "output_type": "display_data"
    },
    {
     "data": {
      "image/png": "[encoded data removed]",
      "text/plain": [
       "<Figure size 432x288 with 1 Axes>"
      ]
     },
     "metadata": {
      "needs_background": "light"
     },
     "output_type": "display_data"
    }
   ],
   "source": [
    "text_len = [len(s.split()) for s in data['text']]\n",
    "headlines_len = [len(s.split()) for s in data['headlines']]\n",
    "\n",
    "print('텍스트의 최소 길이 : {}'.format(np.min(text_len)))\n",
    "print('텍스트의 최대 길이 : {}'.format(np.max(text_len)))\n",
    "print('텍스트의 평균 길이 : {}'.format(np.mean(text_len)))\n",
    "print('요약의 최소 길이 : {}'.format(np.min(headlines_len)))\n",
    "print('요약의 최대 길이 : {}'.format(np.max(headlines_len)))\n",
    "print('요약의 평균 길이 : {}'.format(np.mean(headlines_len)))\n",
    "\n",
    "plt.subplot(1,2,1)\n",
    "plt.boxplot(text_len)\n",
    "plt.title('text')\n",
    "plt.subplot(1,2,2)\n",
    "plt.boxplot(headlines_len)\n",
    "plt.title('headlines')\n",
    "plt.tight_layout()\n",
    "plt.show()\n",
    "\n",
    "plt.title('Text')\n",
    "plt.hist(text_len, bins = 40)\n",
    "plt.xlabel('length of samples')\n",
    "plt.ylabel('number of samples')\n",
    "plt.show()\n",
    "\n",
    "plt.title('headlines')\n",
    "plt.hist(headlines_len, bins = 40)\n",
    "plt.xlabel('length of samples')\n",
    "plt.ylabel('number of samples')\n",
    "plt.show()"
   ]
  },
  {
   "cell_type": "code",
   "execution_count": 18,
   "id": "700c125a",
   "metadata": {},
   "outputs": [],
   "source": [
    "text_max_len = 40\n",
    "headlines_max_len = 10"
   ]
  },
  {
   "cell_type": "code",
   "execution_count": 19,
   "id": "20104370",
   "metadata": {},
   "outputs": [],
   "source": [
    "def below_threshold_len(max_len, nested_list):\n",
    "  cnt = 0\n",
    "  for s in nested_list:\n",
    "    if(len(s.split()) <= max_len):\n",
    "        cnt = cnt + 1\n",
    "  print('전체 샘플 중 길이가 %s 이하인 샘플의 비율: %s'%(max_len, (cnt / len(nested_list))))"
   ]
  },
  {
   "cell_type": "code",
   "execution_count": 20,
   "id": "ba9ff629",
   "metadata": {},
   "outputs": [
    {
     "name": "stdout",
     "output_type": "stream",
     "text": [
      "전체 샘플 중 길이가 40 이하인 샘플의 비율: 0.9238714924766165\n",
      "전체 샘플 중 길이가 10 이하인 샘플의 비율: 0.8162972753151687\n"
     ]
    }
   ],
   "source": [
    "below_threshold_len(text_max_len, data['text'])\n",
    "below_threshold_len(headlines_max_len,  data['headlines'])"
   ]
  },
  {
   "cell_type": "code",
   "execution_count": 21,
   "id": "e0cf65b2",
   "metadata": {},
   "outputs": [
    {
     "name": "stdout",
     "output_type": "stream",
     "text": [
      "전체 샘플수 : 74102\n"
     ]
    }
   ],
   "source": [
    "data = data[data['text'].apply(lambda x: len(x.split()) <= text_max_len)]\n",
    "data = data[data['headlines'].apply(lambda x: len(x.split()) <= headlines_max_len)]\n",
    "print('전체 샘플수 :', (len(data)))"
   ]
  },
  {
   "attachments": {
    "image.png": {
     "image/png": "[encoded data removed]"
    }
   },
   "cell_type": "markdown",
   "id": "094af312",
   "metadata": {},
   "source": [
    "#### 시작 토큰과 종료 토큰 추가하기\n",
    "\n",
    "![image.png](attachment:image.png)"
   ]
  },
  {
   "cell_type": "code",
   "execution_count": 22,
   "id": "85b498e8",
   "metadata": {},
   "outputs": [
    {
     "data": {
      "text/html": [
       "<div>\n",
       "<style scoped>\n",
       "    .dataframe tbody tr th:only-of-type {\n",
       "        vertical-align: middle;\n",
       "    }\n",
       "\n",
       "    .dataframe tbody tr th {\n",
       "        vertical-align: top;\n",
       "    }\n",
       "\n",
       "    .dataframe thead th {\n",
       "        text-align: right;\n",
       "    }\n",
       "</style>\n",
       "<table border=\"1\" class=\"dataframe\">\n",
       "  <thead>\n",
       "    <tr style=\"text-align: right;\">\n",
       "      <th></th>\n",
       "      <th>headlines</th>\n",
       "      <th>text</th>\n",
       "      <th>decoder_input</th>\n",
       "      <th>decoder_target</th>\n",
       "    </tr>\n",
       "  </thead>\n",
       "  <tbody>\n",
       "    <tr>\n",
       "      <th>2</th>\n",
       "      <td>new zealand end rohit sharma led india match w...</td>\n",
       "      <td>new zealand defeated india wickets fourth odi ...</td>\n",
       "      <td>sostoken new zealand end rohit sharma led indi...</td>\n",
       "      <td>new zealand end rohit sharma led india match w...</td>\n",
       "    </tr>\n",
       "    <tr>\n",
       "      <th>3</th>\n",
       "      <td>aegon life iterm insurance plan helps customer...</td>\n",
       "      <td>aegon life iterm insurance plan customers enjo...</td>\n",
       "      <td>sostoken aegon life iterm insurance plan helps...</td>\n",
       "      <td>aegon life iterm insurance plan helps customer...</td>\n",
       "    </tr>\n",
       "    <tr>\n",
       "      <th>5</th>\n",
       "      <td>rahat fateh ali khan denies getting notice for...</td>\n",
       "      <td>pakistani singer rahat fateh ali khan denied r...</td>\n",
       "      <td>sostoken rahat fateh ali khan denies getting n...</td>\n",
       "      <td>rahat fateh ali khan denies getting notice for...</td>\n",
       "    </tr>\n",
       "    <tr>\n",
       "      <th>9</th>\n",
       "      <td>cong wins ramgarh bypoll in rajasthan takes to...</td>\n",
       "      <td>congress candidate shafia zubair ramgarh assem...</td>\n",
       "      <td>sostoken cong wins ramgarh bypoll in rajasthan...</td>\n",
       "      <td>cong wins ramgarh bypoll in rajasthan takes to...</td>\n",
       "    </tr>\n",
       "    <tr>\n",
       "      <th>10</th>\n",
       "      <td>up cousins fed human excreta for friendship wi...</td>\n",
       "      <td>two minor cousins uttar pradesh gorakhpur alle...</td>\n",
       "      <td>sostoken up cousins fed human excreta for frie...</td>\n",
       "      <td>up cousins fed human excreta for friendship wi...</td>\n",
       "    </tr>\n",
       "  </tbody>\n",
       "</table>\n",
       "</div>"
      ],
      "text/plain": [
       "                                            headlines  \\\n",
       "2   new zealand end rohit sharma led india match w...   \n",
       "3   aegon life iterm insurance plan helps customer...   \n",
       "5   rahat fateh ali khan denies getting notice for...   \n",
       "9   cong wins ramgarh bypoll in rajasthan takes to...   \n",
       "10  up cousins fed human excreta for friendship wi...   \n",
       "\n",
       "                                                 text  \\\n",
       "2   new zealand defeated india wickets fourth odi ...   \n",
       "3   aegon life iterm insurance plan customers enjo...   \n",
       "5   pakistani singer rahat fateh ali khan denied r...   \n",
       "9   congress candidate shafia zubair ramgarh assem...   \n",
       "10  two minor cousins uttar pradesh gorakhpur alle...   \n",
       "\n",
       "                                        decoder_input  \\\n",
       "2   sostoken new zealand end rohit sharma led indi...   \n",
       "3   sostoken aegon life iterm insurance plan helps...   \n",
       "5   sostoken rahat fateh ali khan denies getting n...   \n",
       "9   sostoken cong wins ramgarh bypoll in rajasthan...   \n",
       "10  sostoken up cousins fed human excreta for frie...   \n",
       "\n",
       "                                       decoder_target  \n",
       "2   new zealand end rohit sharma led india match w...  \n",
       "3   aegon life iterm insurance plan helps customer...  \n",
       "5   rahat fateh ali khan denies getting notice for...  \n",
       "9   cong wins ramgarh bypoll in rajasthan takes to...  \n",
       "10  up cousins fed human excreta for friendship wi...  "
      ]
     },
     "execution_count": 22,
     "metadata": {},
     "output_type": "execute_result"
    }
   ],
   "source": [
    "# 요약 데이터에는 시작 토큰과 종료 토큰을 추가한다.\n",
    "data['decoder_input'] = data['headlines'].apply(lambda x : 'sostoken '+ x)\n",
    "data['decoder_target'] = data['headlines'].apply(lambda x : x + ' eostoken')\n",
    "data.head()"
   ]
  },
  {
   "cell_type": "code",
   "execution_count": 23,
   "id": "74f23c36",
   "metadata": {},
   "outputs": [],
   "source": [
    "encoder_input = np.array(data['text']) # 인코더의 입력\n",
    "decoder_input = np.array(data['decoder_input']) # 디코더의 입력\n",
    "decoder_target = np.array(data['decoder_target']) # 디코더의 레이블"
   ]
  },
  {
   "cell_type": "code",
   "execution_count": 24,
   "id": "f50db7a1",
   "metadata": {},
   "outputs": [
    {
     "name": "stdout",
     "output_type": "stream",
     "text": [
      "[29636 72916 66480 ... 36566 16117 19475]\n"
     ]
    }
   ],
   "source": [
    "indices = np.arange(encoder_input.shape[0])\n",
    "np.random.shuffle(indices)\n",
    "print(indices)"
   ]
  },
  {
   "cell_type": "markdown",
   "id": "18c7882e",
   "metadata": {},
   "source": [
    "데이터를 8:2의 비율로 훈련 데이터와 테스트 데이터로 분리"
   ]
  },
  {
   "cell_type": "code",
   "execution_count": 25,
   "id": "55312d93",
   "metadata": {},
   "outputs": [],
   "source": [
    "encoder_input = encoder_input[indices]\n",
    "decoder_input = decoder_input[indices]\n",
    "decoder_target = decoder_target[indices]"
   ]
  },
  {
   "cell_type": "code",
   "execution_count": 26,
   "id": "a2f70d33",
   "metadata": {},
   "outputs": [
    {
     "name": "stdout",
     "output_type": "stream",
     "text": [
      "테스트 데이터의 수 : 14820\n"
     ]
    }
   ],
   "source": [
    "n_of_val = int(len(encoder_input)*0.2)\n",
    "print('테스트 데이터의 수 :', n_of_val)"
   ]
  },
  {
   "cell_type": "code",
   "execution_count": 27,
   "id": "585d8b2f",
   "metadata": {},
   "outputs": [
    {
     "name": "stdout",
     "output_type": "stream",
     "text": [
      "훈련 데이터의 개수 : 59282\n",
      "훈련 레이블의 개수 : 59282\n",
      "테스트 데이터의 개수 : 14820\n",
      "테스트 레이블의 개수 : 14820\n"
     ]
    }
   ],
   "source": [
    "encoder_input_train = encoder_input[:-n_of_val]\n",
    "decoder_input_train = decoder_input[:-n_of_val]\n",
    "decoder_target_train = decoder_target[:-n_of_val]\n",
    "\n",
    "encoder_input_test = encoder_input[-n_of_val:]\n",
    "decoder_input_test = decoder_input[-n_of_val:]\n",
    "decoder_target_test = decoder_target[-n_of_val:]\n",
    "\n",
    "print('훈련 데이터의 개수 :', len(encoder_input_train))\n",
    "print('훈련 레이블의 개수 :', len(decoder_input_train))\n",
    "print('테스트 데이터의 개수 :', len(encoder_input_test))\n",
    "print('테스트 레이블의 개수 :', len(decoder_input_test))"
   ]
  },
  {
   "cell_type": "markdown",
   "id": "53ea4ca4",
   "metadata": {},
   "source": [
    "#### 정수 인코딩"
   ]
  },
  {
   "cell_type": "code",
   "execution_count": 28,
   "id": "c43745c4",
   "metadata": {},
   "outputs": [],
   "source": [
    "src_tokenizer = Tokenizer() # 토크나이저 정의\n",
    "src_tokenizer.fit_on_texts(encoder_input_train) # 입력된 데이터로부터 단어 집합 생성"
   ]
  },
  {
   "cell_type": "code",
   "execution_count": 29,
   "id": "3da906dc",
   "metadata": {},
   "outputs": [
    {
     "name": "stdout",
     "output_type": "stream",
     "text": [
      "단어 집합(vocabulary)의 크기 : 61690\n",
      "등장 빈도가 6번 이하인 희귀 단어의 수: 42421\n",
      "단어 집합에서 희귀 단어를 제외시킬 경우의 단어 집합의 크기 19269\n",
      "단어 집합에서 희귀 단어의 비율: 68.76479170043768\n",
      "전체 등장 빈도에서 희귀 단어 등장 빈도 비율: 4.208320400422442\n"
     ]
    }
   ],
   "source": [
    "threshold = 7\n",
    "total_cnt = len(src_tokenizer.word_index) # 단어의 수\n",
    "rare_cnt = 0 # 등장 빈도수가 threshold보다 작은 단어의 개수를 카운트\n",
    "total_freq = 0 # 훈련 데이터의 전체 단어 빈도수 총 합\n",
    "rare_freq = 0 # 등장 빈도수가 threshold보다 작은 단어의 등장 빈도수의 총 합\n",
    "\n",
    "# 단어와 빈도수의 쌍(pair)을 key와 value로 받는다.\n",
    "for key, value in src_tokenizer.word_counts.items():\n",
    "    total_freq = total_freq + value\n",
    "\n",
    "    # 단어의 등장 빈도수가 threshold보다 작으면\n",
    "    if(value < threshold):\n",
    "        rare_cnt = rare_cnt + 1\n",
    "        rare_freq = rare_freq + value\n",
    "\n",
    "print('단어 집합(vocabulary)의 크기 :', total_cnt)\n",
    "print('등장 빈도가 %s번 이하인 희귀 단어의 수: %s'%(threshold - 1, rare_cnt))\n",
    "print('단어 집합에서 희귀 단어를 제외시킬 경우의 단어 집합의 크기 %s'%(total_cnt - rare_cnt))\n",
    "print(\"단어 집합에서 희귀 단어의 비율:\", (rare_cnt / total_cnt)*100)\n",
    "print(\"전체 등장 빈도에서 희귀 단어 등장 빈도 비율:\", (rare_freq / total_freq)*100)"
   ]
  },
  {
   "cell_type": "markdown",
   "id": "b5af4fb4",
   "metadata": {},
   "source": [
    "전체 등장 빈도에서 희귀 단어 등장 빈도 비율이 약 4.2%밖에 되지 않기에 제거하고 진행"
   ]
  },
  {
   "cell_type": "code",
   "execution_count": 30,
   "id": "255b6150",
   "metadata": {},
   "outputs": [],
   "source": [
    "src_vocab = 19000\n",
    "src_tokenizer = Tokenizer(num_words=src_vocab) # 단어 집합의 크기를 19,000으로 제한\n",
    "src_tokenizer.fit_on_texts(encoder_input_train) # 단어 집합 재생성"
   ]
  },
  {
   "cell_type": "code",
   "execution_count": 31,
   "id": "afc1fe14",
   "metadata": {},
   "outputs": [
    {
     "name": "stdout",
     "output_type": "stream",
     "text": [
      "[[3347, 17, 8790, 3278, 52, 61, 5, 1716, 834, 1222, 247, 1472, 2400, 17939, 467, 9779, 3553, 419, 108, 3973, 4098, 4554, 2098, 419, 108, 1980, 834, 1467, 1457, 381, 843, 1700, 20], [134, 3, 2682, 13, 820, 9482, 1577, 1051, 597, 3656, 5956, 134, 2320, 1701, 490, 1310, 27, 1081, 704, 1737, 5956, 244, 1742, 4750, 8435, 965, 1701, 262, 3254, 57, 1742, 1310, 704, 1737, 78, 262], [584, 245, 233, 165, 1897, 1649, 9, 3800, 7661, 3437, 576, 945, 2451, 875, 15086, 233, 1831, 793, 86, 9, 8436, 2336, 576, 945, 17940, 576, 750, 309, 2336, 2951, 10031, 1245, 1722, 1923, 3657]]\n"
     ]
    }
   ],
   "source": [
    "# 텍스트 시퀀스를 정수 시퀀스로 변환\n",
    "encoder_input_train = src_tokenizer.texts_to_sequences(encoder_input_train) \n",
    "encoder_input_test = src_tokenizer.texts_to_sequences(encoder_input_test)\n",
    "\n",
    "# 잘 진행되었는지 샘플 출력\n",
    "print(encoder_input_train[:3])"
   ]
  },
  {
   "cell_type": "code",
   "execution_count": 32,
   "id": "db3d5936",
   "metadata": {},
   "outputs": [],
   "source": [
    "tar_tokenizer = Tokenizer()\n",
    "tar_tokenizer.fit_on_texts(decoder_input_train)"
   ]
  },
  {
   "cell_type": "code",
   "execution_count": 33,
   "id": "847732ae",
   "metadata": {},
   "outputs": [
    {
     "name": "stdout",
     "output_type": "stream",
     "text": [
      "단어 집합(vocabulary)의 크기 : 27287\n",
      "등장 빈도가 5번 이하인 희귀 단어의 수: 18224\n",
      "단어 집합에서 희귀 단어를 제외시킬 경우의 단어 집합의 크기 9063\n",
      "단어 집합에서 희귀 단어의 비율: 66.78638179352805\n",
      "전체 등장 빈도에서 희귀 단어 등장 빈도 비율: 5.974859496331889\n"
     ]
    }
   ],
   "source": [
    "threshold = 6\n",
    "total_cnt = len(tar_tokenizer.word_index) # 단어의 수\n",
    "rare_cnt = 0 # 등장 빈도수가 threshold보다 작은 단어의 개수를 카운트\n",
    "total_freq = 0 # 훈련 데이터의 전체 단어 빈도수 총 합\n",
    "rare_freq = 0 # 등장 빈도수가 threshold보다 작은 단어의 등장 빈도수의 총 합\n",
    "\n",
    "# 단어와 빈도수의 쌍(pair)을 key와 value로 받는다.\n",
    "for key, value in tar_tokenizer.word_counts.items():\n",
    "    total_freq = total_freq + value\n",
    "\n",
    "    # 단어의 등장 빈도수가 threshold보다 작으면\n",
    "    if(value < threshold):\n",
    "        rare_cnt = rare_cnt + 1\n",
    "        rare_freq = rare_freq + value\n",
    "\n",
    "print('단어 집합(vocabulary)의 크기 :', total_cnt)\n",
    "print('등장 빈도가 %s번 이하인 희귀 단어의 수: %s'%(threshold - 1, rare_cnt))\n",
    "print('단어 집합에서 희귀 단어를 제외시킬 경우의 단어 집합의 크기 %s'%(total_cnt - rare_cnt))\n",
    "print(\"단어 집합에서 희귀 단어의 비율:\", (rare_cnt / total_cnt)*100)\n",
    "print(\"전체 등장 빈도에서 희귀 단어 등장 빈도 비율:\", (rare_freq / total_freq)*100)"
   ]
  },
  {
   "cell_type": "markdown",
   "id": "0e83ef6d",
   "metadata": {},
   "source": [
    "훈련 데이터에서 등장 빈도로 차지하는 비중은 상대적으로 매우 적은 수치인 약 6% 위와 같이 제거"
   ]
  },
  {
   "cell_type": "code",
   "execution_count": 34,
   "id": "411f0b51",
   "metadata": {},
   "outputs": [
    {
     "name": "stdout",
     "output_type": "stream",
     "text": [
      "input\n",
      "input  [[1, 4313, 131, 141, 14, 1367, 161, 6, 758], [1, 815, 1059, 1032, 495, 133, 4314, 536, 200, 1328], [1, 5697, 4, 256, 2942, 85, 276, 24, 240], [1, 178, 32, 1890, 3, 156, 5, 6, 1509, 470], [1, 23, 6045, 5, 2614, 3, 71, 5132, 5133]]\n",
      "target\n",
      "decoder  [[4313, 131, 141, 14, 1367, 161, 6, 758, 2], [815, 1059, 1032, 495, 133, 4314, 536, 200, 1328, 2], [5697, 4, 256, 2942, 85, 276, 24, 240, 2], [178, 32, 1890, 3, 156, 5, 6, 1509, 470, 2], [23, 6045, 5, 2614, 3, 71, 5132, 5133, 2]]\n"
     ]
    }
   ],
   "source": [
    "tar_vocab = 9000\n",
    "tar_tokenizer = Tokenizer(num_words=tar_vocab) \n",
    "tar_tokenizer.fit_on_texts(decoder_input_train)\n",
    "tar_tokenizer.fit_on_texts(decoder_target_train)\n",
    "\n",
    "# 텍스트 시퀀스를 정수 시퀀스로 변환\n",
    "decoder_input_train = tar_tokenizer.texts_to_sequences(decoder_input_train) \n",
    "decoder_target_train = tar_tokenizer.texts_to_sequences(decoder_target_train)\n",
    "decoder_input_test = tar_tokenizer.texts_to_sequences(decoder_input_test)\n",
    "decoder_target_test = tar_tokenizer.texts_to_sequences(decoder_target_test)\n",
    "\n",
    "# 잘 변환되었는지 확인\n",
    "print('input')\n",
    "print('input ',decoder_input_train[:5])\n",
    "print('target')\n",
    "print('decoder ',decoder_target_train[:5])"
   ]
  },
  {
   "cell_type": "code",
   "execution_count": 35,
   "id": "596afa13",
   "metadata": {},
   "outputs": [
    {
     "name": "stdout",
     "output_type": "stream",
     "text": [
      "삭제할 훈련 데이터의 개수 : 0\n",
      "삭제할 테스트 데이터의 개수 : 0\n",
      "훈련 데이터의 개수 : 59282\n",
      "훈련 레이블의 개수 : 59282\n",
      "테스트 데이터의 개수 : 14820\n",
      "테스트 레이블의 개수 : 14820\n"
     ]
    }
   ],
   "source": [
    "drop_train = [index for index, sentence in enumerate(decoder_input_train) if len(sentence) == 1]\n",
    "drop_test = [index for index, sentence in enumerate(decoder_input_test) if len(sentence) == 1]\n",
    "\n",
    "print('삭제할 훈련 데이터의 개수 :', len(drop_train))\n",
    "print('삭제할 테스트 데이터의 개수 :', len(drop_test))\n",
    "\n",
    "encoder_input_train = [sentence for index, sentence in enumerate(encoder_input_train) if index not in drop_train]\n",
    "decoder_input_train = [sentence for index, sentence in enumerate(decoder_input_train) if index not in drop_train]\n",
    "decoder_target_train = [sentence for index, sentence in enumerate(decoder_target_train) if index not in drop_train]\n",
    "\n",
    "encoder_input_test = [sentence for index, sentence in enumerate(encoder_input_test) if index not in drop_test]\n",
    "decoder_input_test = [sentence for index, sentence in enumerate(decoder_input_test) if index not in drop_test]\n",
    "decoder_target_test = [sentence for index, sentence in enumerate(decoder_target_test) if index not in drop_test]\n",
    "\n",
    "print('훈련 데이터의 개수 :', len(encoder_input_train))\n",
    "print('훈련 레이블의 개수 :', len(decoder_input_train))\n",
    "print('테스트 데이터의 개수 :', len(encoder_input_test))\n",
    "print('테스트 레이블의 개수 :', len(decoder_input_test))"
   ]
  },
  {
   "cell_type": "code",
   "execution_count": 36,
   "id": "95b83f2f",
   "metadata": {},
   "outputs": [],
   "source": [
    "# 패딩\n",
    "encoder_input_train = pad_sequences(encoder_input_train, maxlen=text_max_len, padding='post')\n",
    "encoder_input_test = pad_sequences(encoder_input_test, maxlen=text_max_len, padding='post')\n",
    "decoder_input_train = pad_sequences(decoder_input_train, maxlen=headlines_max_len, padding='post')\n",
    "decoder_target_train = pad_sequences(decoder_target_train, maxlen=headlines_max_len, padding='post')\n",
    "decoder_input_test = pad_sequences(decoder_input_test, maxlen=headlines_max_len, padding='post')\n",
    "decoder_target_test = pad_sequences(decoder_target_test, maxlen=headlines_max_len, padding='post')"
   ]
  },
  {
   "cell_type": "markdown",
   "id": "196c200e",
   "metadata": {},
   "source": [
    "#### 모델 설계"
   ]
  },
  {
   "cell_type": "code",
   "execution_count": 43,
   "id": "cdddd9d6",
   "metadata": {},
   "outputs": [
    {
     "name": "stdout",
     "output_type": "stream",
     "text": [
      "WARNING:tensorflow:Layer lstm_4 will not use cuDNN kernels since it doesn't meet the criteria. It will use a generic GPU kernel as fallback when running on GPU.\n",
      "WARNING:tensorflow:Layer lstm_5 will not use cuDNN kernels since it doesn't meet the criteria. It will use a generic GPU kernel as fallback when running on GPU.\n",
      "WARNING:tensorflow:Layer lstm_6 will not use cuDNN kernels since it doesn't meet the criteria. It will use a generic GPU kernel as fallback when running on GPU.\n"
     ]
    }
   ],
   "source": [
    "from tensorflow.keras.layers import Input, LSTM, Embedding, Dense, Concatenate, TimeDistributed\n",
    "from tensorflow.keras.models import Model\n",
    "from tensorflow.keras.callbacks import EarlyStopping, ModelCheckpoint\n",
    "\n",
    "embedding_dim = 128\n",
    "hidden_size = 256\n",
    "\n",
    "encoder_inputs = Input(shape=(text_max_len,))\n",
    "\n",
    "enc_emb = Embedding(src_vocab, embedding_dim)(encoder_inputs)\n",
    "\n",
    "encoder_lstm1 = LSTM(hidden_size, return_sequences=True, return_state=True ,dropout = 0.4, recurrent_dropout = 0.4)\n",
    "# encoder_lstm1 = LSTM(hidden_size, return_sequences=True, return_state=True ,dropout = 0.4)\n",
    "encoder_output1, state_h1, state_c1 = encoder_lstm1(enc_emb)\n",
    "\n",
    "encoder_lstm2 = LSTM(hidden_size, return_sequences=True, return_state=True, dropout=0.4, recurrent_dropout=0.4)\n",
    "# encoder_lstm2 = LSTM(hidden_size, return_sequences=True, return_state=True, dropout=0.4)\n",
    "encoder_output2, state_h2, state_c2 = encoder_lstm2(encoder_output1)\n",
    "\n",
    "encoder_lstm3 = LSTM(hidden_size, return_state=True, return_sequences=True, dropout=0.4, recurrent_dropout=0.4)\n",
    "# encoder_lstm3 = LSTM(hidden_size, return_state=True, return_sequences=True, dropout=0.4)\n",
    "encoder_outputs, state_h, state_c= encoder_lstm3(encoder_output2)"
   ]
  },
  {
   "cell_type": "code",
   "execution_count": 44,
   "id": "435a8af0",
   "metadata": {},
   "outputs": [],
   "source": [
    "# 디코더 설계\n",
    "decoder_inputs = Input(shape=(None,))\n",
    "\n",
    "# 디코더의 임베딩 층\n",
    "dec_emb_layer = Embedding(tar_vocab, embedding_dim)\n",
    "dec_emb = dec_emb_layer(decoder_inputs)\n",
    "\n",
    "# 디코더의 LSTM\n",
    "# decoder_lstm = LSTM(hidden_size, return_sequences=True, return_state=True, dropout=0.4, recurrent_dropout=0.2)\n",
    "decoder_lstm = LSTM(hidden_size, return_sequences=True, return_state=True, dropout=0.4)\n",
    "decoder_outputs, _, _ = decoder_lstm(dec_emb, initial_state=[state_h, state_c])"
   ]
  },
  {
   "cell_type": "code",
   "execution_count": 45,
   "id": "1a3349bd",
   "metadata": {},
   "outputs": [
    {
     "name": "stdout",
     "output_type": "stream",
     "text": [
      "Model: \"model_2\"\n",
      "__________________________________________________________________________________________________\n",
      "Layer (type)                    Output Shape         Param #     Connected to                     \n",
      "==================================================================================================\n",
      "input_3 (InputLayer)            [(None, 40)]         0                                            \n",
      "__________________________________________________________________________________________________\n",
      "embedding_2 (Embedding)         (None, 40, 128)      2432000     input_3[0][0]                    \n",
      "__________________________________________________________________________________________________\n",
      "lstm_4 (LSTM)                   [(None, 40, 256), (N 394240      embedding_2[0][0]                \n",
      "__________________________________________________________________________________________________\n",
      "input_4 (InputLayer)            [(None, None)]       0                                            \n",
      "__________________________________________________________________________________________________\n",
      "lstm_5 (LSTM)                   [(None, 40, 256), (N 525312      lstm_4[0][0]                     \n",
      "__________________________________________________________________________________________________\n",
      "embedding_3 (Embedding)         (None, None, 128)    1152000     input_4[0][0]                    \n",
      "__________________________________________________________________________________________________\n",
      "lstm_6 (LSTM)                   [(None, 40, 256), (N 525312      lstm_5[0][0]                     \n",
      "__________________________________________________________________________________________________\n",
      "lstm_7 (LSTM)                   [(None, None, 256),  394240      embedding_3[0][0]                \n",
      "                                                                 lstm_6[0][1]                     \n",
      "                                                                 lstm_6[0][2]                     \n",
      "__________________________________________________________________________________________________\n",
      "dense_2 (Dense)                 (None, None, 9000)   2313000     lstm_7[0][0]                     \n",
      "==================================================================================================\n",
      "Total params: 7,736,104\n",
      "Trainable params: 7,736,104\n",
      "Non-trainable params: 0\n",
      "__________________________________________________________________________________________________\n"
     ]
    }
   ],
   "source": [
    "# 디코더의 출력층\n",
    "decoder_softmax_layer = Dense(tar_vocab, activation='softmax')\n",
    "decoder_softmax_outputs = decoder_softmax_layer(decoder_outputs) \n",
    "\n",
    "# 모델 정의\n",
    "model = Model([encoder_inputs, decoder_inputs], decoder_softmax_outputs)\n",
    "model.summary()"
   ]
  },
  {
   "cell_type": "markdown",
   "id": "dd6f48a5",
   "metadata": {},
   "source": [
    "### 어텐션 메커니즘 사용하기 (추상적 요약)"
   ]
  },
  {
   "cell_type": "code",
   "execution_count": 46,
   "id": "1a195ddb",
   "metadata": {},
   "outputs": [
    {
     "name": "stdout",
     "output_type": "stream",
     "text": [
      "Model: \"model_3\"\n",
      "__________________________________________________________________________________________________\n",
      "Layer (type)                    Output Shape         Param #     Connected to                     \n",
      "==================================================================================================\n",
      "input_3 (InputLayer)            [(None, 40)]         0                                            \n",
      "__________________________________________________________________________________________________\n",
      "embedding_2 (Embedding)         (None, 40, 128)      2432000     input_3[0][0]                    \n",
      "__________________________________________________________________________________________________\n",
      "lstm_4 (LSTM)                   [(None, 40, 256), (N 394240      embedding_2[0][0]                \n",
      "__________________________________________________________________________________________________\n",
      "input_4 (InputLayer)            [(None, None)]       0                                            \n",
      "__________________________________________________________________________________________________\n",
      "lstm_5 (LSTM)                   [(None, 40, 256), (N 525312      lstm_4[0][0]                     \n",
      "__________________________________________________________________________________________________\n",
      "embedding_3 (Embedding)         (None, None, 128)    1152000     input_4[0][0]                    \n",
      "__________________________________________________________________________________________________\n",
      "lstm_6 (LSTM)                   [(None, 40, 256), (N 525312      lstm_5[0][0]                     \n",
      "__________________________________________________________________________________________________\n",
      "lstm_7 (LSTM)                   [(None, None, 256),  394240      embedding_3[0][0]                \n",
      "                                                                 lstm_6[0][1]                     \n",
      "                                                                 lstm_6[0][2]                     \n",
      "__________________________________________________________________________________________________\n",
      "attention_layer (AdditiveAttent (None, None, 256)    256         lstm_7[0][0]                     \n",
      "                                                                 lstm_6[0][0]                     \n",
      "__________________________________________________________________________________________________\n",
      "concat_layer (Concatenate)      (None, None, 512)    0           lstm_7[0][0]                     \n",
      "                                                                 attention_layer[0][0]            \n",
      "__________________________________________________________________________________________________\n",
      "dense_3 (Dense)                 (None, None, 9000)   4617000     concat_layer[0][0]               \n",
      "==================================================================================================\n",
      "Total params: 10,040,360\n",
      "Trainable params: 10,040,360\n",
      "Non-trainable params: 0\n",
      "__________________________________________________________________________________________________\n"
     ]
    }
   ],
   "source": [
    "from tensorflow.keras.layers import AdditiveAttention\n",
    "\n",
    "# 어텐션 층(어텐션 함수)\n",
    "attn_layer = AdditiveAttention(name='attention_layer')\n",
    "\n",
    "# 인코더와 디코더의 모든 time step의 hidden state를 어텐션 층에 전달하고 결과를 리턴\n",
    "attn_out = attn_layer([decoder_outputs, encoder_outputs])\n",
    "\n",
    "\n",
    "# 어텐션의 결과와 디코더의 hidden state들을 연결\n",
    "decoder_concat_input = Concatenate(axis=-1, name='concat_layer')([decoder_outputs, attn_out])\n",
    "\n",
    "# 디코더의 출력층\n",
    "decoder_softmax_layer = Dense(tar_vocab, activation='softmax')\n",
    "decoder_softmax_outputs = decoder_softmax_layer(decoder_concat_input)\n",
    "\n",
    "# 모델 정의\n",
    "model = Model([encoder_inputs, decoder_inputs], decoder_softmax_outputs)\n",
    "model.summary()"
   ]
  },
  {
   "cell_type": "code",
   "execution_count": 41,
   "id": "04ce8ee1",
   "metadata": {},
   "outputs": [
    {
     "name": "stdout",
     "output_type": "stream",
     "text": [
      "Epoch 1/50\n",
      "232/232 [==============================] - 27s 87ms/step - loss: 6.3092 - val_loss: 5.8797\n",
      "Epoch 2/50\n",
      "232/232 [==============================] - 19s 84ms/step - loss: 5.7689 - val_loss: 5.5255\n",
      "Epoch 3/50\n",
      "232/232 [==============================] - 19s 83ms/step - loss: 5.4230 - val_loss: 5.2801\n",
      "Epoch 4/50\n",
      "232/232 [==============================] - 19s 82ms/step - loss: 5.1531 - val_loss: 5.0870\n",
      "Epoch 5/50\n",
      "232/232 [==============================] - 19s 82ms/step - loss: 4.9127 - val_loss: 4.9187\n",
      "Epoch 6/50\n",
      "232/232 [==============================] - 19s 82ms/step - loss: 4.7057 - val_loss: 4.7728\n",
      "Epoch 7/50\n",
      "232/232 [==============================] - 19s 82ms/step - loss: 4.5274 - val_loss: 4.6591\n",
      "Epoch 8/50\n",
      "232/232 [==============================] - 19s 82ms/step - loss: 4.3716 - val_loss: 4.5821\n",
      "Epoch 9/50\n",
      "232/232 [==============================] - 19s 82ms/step - loss: 4.2305 - val_loss: 4.5147\n",
      "Epoch 10/50\n",
      "232/232 [==============================] - 19s 82ms/step - loss: 4.1047 - val_loss: 4.4572\n",
      "Epoch 11/50\n",
      "232/232 [==============================] - 19s 82ms/step - loss: 3.9923 - val_loss: 4.4011\n",
      "Epoch 12/50\n",
      "232/232 [==============================] - 19s 82ms/step - loss: 3.8857 - val_loss: 4.3693\n",
      "Epoch 13/50\n",
      "232/232 [==============================] - 19s 82ms/step - loss: 3.7845 - val_loss: 4.3308\n",
      "Epoch 14/50\n",
      "232/232 [==============================] - 19s 82ms/step - loss: 3.6910 - val_loss: 4.3112\n",
      "Epoch 15/50\n",
      "232/232 [==============================] - 19s 82ms/step - loss: 3.6057 - val_loss: 4.2869\n",
      "Epoch 16/50\n",
      "232/232 [==============================] - 19s 82ms/step - loss: 3.5277 - val_loss: 4.2692\n",
      "Epoch 17/50\n",
      "232/232 [==============================] - 19s 82ms/step - loss: 3.4499 - val_loss: 4.2544\n",
      "Epoch 18/50\n",
      "232/232 [==============================] - 19s 82ms/step - loss: 3.3807 - val_loss: 4.2503\n",
      "Epoch 19/50\n",
      "232/232 [==============================] - 19s 82ms/step - loss: 3.3170 - val_loss: 4.2406\n",
      "Epoch 20/50\n",
      "232/232 [==============================] - 19s 82ms/step - loss: 3.2566 - val_loss: 4.2392\n",
      "Epoch 21/50\n",
      "232/232 [==============================] - 19s 82ms/step - loss: 3.1953 - val_loss: 4.2325\n",
      "Epoch 22/50\n",
      "232/232 [==============================] - 19s 82ms/step - loss: 3.1375 - val_loss: 4.2283\n",
      "Epoch 23/50\n",
      "232/232 [==============================] - 19s 82ms/step - loss: 3.0825 - val_loss: 4.2373\n",
      "Epoch 24/50\n",
      "232/232 [==============================] - 19s 82ms/step - loss: 3.0308 - val_loss: 4.2353\n",
      "Epoch 00024: early stopping\n"
     ]
    }
   ],
   "source": [
    "model.compile(optimizer='rmsprop', loss='sparse_categorical_crossentropy')\n",
    "es = EarlyStopping(monitor='val_loss', patience=2, verbose=1) # val_loss값이 2번 이상 연속으로 개선되지 않으면 학습을 조기 종료\n",
    "history = model.fit(x=[encoder_input_train, decoder_input_train], y=decoder_target_train, \\\n",
    "          validation_data=([encoder_input_test, decoder_input_test], decoder_target_test), \\\n",
    "          batch_size=256, callbacks=[es], epochs=50)"
   ]
  },
  {
   "cell_type": "code",
   "execution_count": 42,
   "id": "b0a81c14",
   "metadata": {},
   "outputs": [
    {
     "data": {
      "image/png": "[encoded data removed]",
      "text/plain": [
       "<Figure size 432x288 with 1 Axes>"
      ]
     },
     "metadata": {
      "needs_background": "light"
     },
     "output_type": "display_data"
    }
   ],
   "source": [
    "plt.plot(history.history['loss'], label='train')\n",
    "plt.plot(history.history['val_loss'], label='test')\n",
    "plt.legend()\n",
    "plt.show()"
   ]
  },
  {
   "cell_type": "markdown",
   "id": "9ca4570f",
   "metadata": {},
   "source": [
    "recurrent_dropout 포함"
   ]
  },
  {
   "cell_type": "code",
   "execution_count": 47,
   "id": "6d4084e9",
   "metadata": {},
   "outputs": [
    {
     "name": "stdout",
     "output_type": "stream",
     "text": [
      "Epoch 1/50\n",
      "232/232 [==============================] - 140s 570ms/step - loss: 6.3108 - val_loss: 5.9272\n",
      "Epoch 2/50\n",
      "232/232 [==============================] - 131s 564ms/step - loss: 5.7852 - val_loss: 5.5397\n",
      "Epoch 3/50\n",
      "232/232 [==============================] - 131s 566ms/step - loss: 5.4431 - val_loss: 5.3025\n",
      "Epoch 4/50\n",
      "232/232 [==============================] - 131s 566ms/step - loss: 5.1649 - val_loss: 5.0612\n",
      "Epoch 5/50\n",
      "232/232 [==============================] - 130s 559ms/step - loss: 4.9166 - val_loss: 4.9112\n",
      "Epoch 6/50\n",
      "232/232 [==============================] - 129s 558ms/step - loss: 4.7124 - val_loss: 4.7753\n",
      "Epoch 7/50\n",
      "232/232 [==============================] - 130s 558ms/step - loss: 4.5404 - val_loss: 4.6599\n",
      "Epoch 8/50\n",
      "232/232 [==============================] - 129s 557ms/step - loss: 4.3876 - val_loss: 4.5880\n",
      "Epoch 9/50\n",
      "232/232 [==============================] - 129s 555ms/step - loss: 4.2553 - val_loss: 4.5146\n",
      "Epoch 10/50\n",
      "232/232 [==============================] - 129s 554ms/step - loss: 4.1298 - val_loss: 4.4619\n",
      "Epoch 11/50\n",
      "232/232 [==============================] - 129s 554ms/step - loss: 4.0148 - val_loss: 4.4238\n",
      "Epoch 12/50\n",
      "232/232 [==============================] - 129s 555ms/step - loss: 3.9097 - val_loss: 4.3750\n",
      "Epoch 13/50\n",
      "232/232 [==============================] - 128s 553ms/step - loss: 3.8146 - val_loss: 4.3412\n",
      "Epoch 14/50\n",
      "232/232 [==============================] - 128s 553ms/step - loss: 3.7261 - val_loss: 4.3146\n",
      "Epoch 15/50\n",
      "232/232 [==============================] - 128s 552ms/step - loss: 3.6415 - val_loss: 4.2967\n",
      "Epoch 16/50\n",
      "232/232 [==============================] - 128s 552ms/step - loss: 3.5616 - val_loss: 4.2747\n",
      "Epoch 17/50\n",
      "232/232 [==============================] - 128s 551ms/step - loss: 3.4860 - val_loss: 4.2682\n",
      "Epoch 18/50\n",
      "232/232 [==============================] - 128s 550ms/step - loss: 3.4159 - val_loss: 4.2515\n",
      "Epoch 19/50\n",
      "232/232 [==============================] - 128s 551ms/step - loss: 3.3499 - val_loss: 4.2503\n",
      "Epoch 20/50\n",
      "232/232 [==============================] - 128s 551ms/step - loss: 3.2873 - val_loss: 4.2426\n",
      "Epoch 21/50\n",
      "232/232 [==============================] - 128s 552ms/step - loss: 3.2271 - val_loss: 4.2316\n",
      "Epoch 22/50\n",
      "232/232 [==============================] - 128s 551ms/step - loss: 3.1666 - val_loss: 4.2314\n",
      "Epoch 23/50\n",
      "232/232 [==============================] - 127s 549ms/step - loss: 3.1135 - val_loss: 4.2374\n",
      "Epoch 24/50\n",
      "232/232 [==============================] - 127s 549ms/step - loss: 3.0658 - val_loss: 4.2381\n",
      "Epoch 00024: early stopping\n"
     ]
    }
   ],
   "source": [
    "model.compile(optimizer='rmsprop', loss='sparse_categorical_crossentropy')\n",
    "es = EarlyStopping(monitor='val_loss', patience=2, verbose=1) # val_loss값이 2번 이상 연속으로 개선되지 않으면 학습을 조기 종료\n",
    "history = model.fit(x=[encoder_input_train, decoder_input_train], y=decoder_target_train, \\\n",
    "          validation_data=([encoder_input_test, decoder_input_test], decoder_target_test), \\\n",
    "          batch_size=256, callbacks=[es], epochs=50)"
   ]
  },
  {
   "cell_type": "code",
   "execution_count": 48,
   "id": "b2771328",
   "metadata": {},
   "outputs": [
    {
     "data": {
      "image/png": "[encoded data removed]",
      "text/plain": [
       "<Figure size 432x288 with 1 Axes>"
      ]
     },
     "metadata": {
      "needs_background": "light"
     },
     "output_type": "display_data"
    }
   ],
   "source": [
    "plt.plot(history.history['loss'], label='train')\n",
    "plt.plot(history.history['val_loss'], label='test')\n",
    "plt.legend()\n",
    "plt.show()"
   ]
  },
  {
   "cell_type": "markdown",
   "id": "e6c791e3",
   "metadata": {},
   "source": [
    "recurrent_dropout를 포함 하나 안하나 큰 차이는 없는듯 보인다"
   ]
  },
  {
   "cell_type": "markdown",
   "id": "cf1cb8e8",
   "metadata": {},
   "source": [
    "### 실제 결과와 요약문 비교하기 (추상적 요약)"
   ]
  },
  {
   "cell_type": "code",
   "execution_count": 49,
   "id": "0de3a8ba",
   "metadata": {},
   "outputs": [],
   "source": [
    "src_index_to_word = src_tokenizer.index_word # 원문 단어 집합에서 정수 -> 단어를 얻음\n",
    "tar_word_to_index = tar_tokenizer.word_index # 요약 단어 집합에서 단어 -> 정수를 얻음\n",
    "tar_index_to_word = tar_tokenizer.index_word # 요약 단어 집합에서 정수 -> 단어를 얻음"
   ]
  },
  {
   "cell_type": "code",
   "execution_count": 50,
   "id": "83134278",
   "metadata": {},
   "outputs": [],
   "source": [
    "# 인코더 설계\n",
    "encoder_model = Model(inputs=encoder_inputs, outputs=[encoder_outputs, state_h, state_c])\n",
    "\n",
    "# 이전 시점의 상태들을 저장하는 텐서\n",
    "decoder_state_input_h = Input(shape=(hidden_size,))\n",
    "decoder_state_input_c = Input(shape=(hidden_size,))\n",
    "\n",
    "dec_emb2 = dec_emb_layer(decoder_inputs)\n",
    "\n",
    "# 문장의 다음 단어를 예측하기 위해서 초기 상태(initial_state)를 이전 시점의 상태로 사용. 이는 뒤의 함수 decode_sequence()에 구현\n",
    "# 훈련 과정에서와 달리 LSTM의 리턴하는 은닉 상태와 셀 상태인 state_h와 state_c를 버리지 않음.\n",
    "decoder_outputs2, state_h2, state_c2 = decoder_lstm(dec_emb2, initial_state=[decoder_state_input_h, decoder_state_input_c])"
   ]
  },
  {
   "cell_type": "code",
   "execution_count": 51,
   "id": "b98d3aea",
   "metadata": {},
   "outputs": [],
   "source": [
    "# 어텐션 함수\n",
    "decoder_hidden_state_input = Input(shape=(text_max_len, hidden_size))\n",
    "attn_out_inf = attn_layer([decoder_outputs2, decoder_hidden_state_input])\n",
    "decoder_inf_concat = Concatenate(axis=-1, name='concat')([decoder_outputs2, attn_out_inf])\n",
    "\n",
    "# 디코더의 출력층\n",
    "decoder_outputs2 = decoder_softmax_layer(decoder_inf_concat) \n",
    "\n",
    "# 최종 디코더 모델\n",
    "decoder_model = Model(\n",
    "    [decoder_inputs] + [decoder_hidden_state_input,decoder_state_input_h, decoder_state_input_c],\n",
    "    [decoder_outputs2] + [state_h2, state_c2])"
   ]
  },
  {
   "cell_type": "code",
   "execution_count": 58,
   "id": "80f6f4be",
   "metadata": {},
   "outputs": [],
   "source": [
    "def decode_sequence(input_seq):\n",
    "    # 입력으로부터 인코더의 상태를 얻음\n",
    "    e_out, e_h, e_c = encoder_model.predict(input_seq)\n",
    "\n",
    "     # <SOS>에 해당하는 토큰 생성\n",
    "    target_seq = np.zeros((1,1))\n",
    "    target_seq[0, 0] = tar_word_to_index['sostoken']\n",
    "\n",
    "    stop_condition = False\n",
    "    decoded_sentence = ''\n",
    "    while not stop_condition: # stop_condition이 True가 될 때까지 루프 반복\n",
    "\n",
    "        output_tokens, h, c = decoder_model.predict([target_seq] + [e_out, e_h, e_c])\n",
    "        sampled_token_index = np.argmax(output_tokens[0, -1, :])\n",
    "        sampled_token = tar_index_to_word[sampled_token_index]\n",
    "\n",
    "        if (sampled_token!='eostoken'):\n",
    "            decoded_sentence += ' '+sampled_token\n",
    "\n",
    "        #  <eos>에 도달하거나 최대 길이를 넘으면 중단.\n",
    "        if (sampled_token == 'eostoken'  or len(decoded_sentence.split()) >= (headlines_max_len-1)):\n",
    "            stop_condition = True\n",
    "\n",
    "        # 길이가 1인 타겟 시퀀스를 업데이트\n",
    "        target_seq = np.zeros((1,1))\n",
    "        target_seq[0, 0] = sampled_token_index\n",
    "\n",
    "        # 상태를 업데이트 합니다.\n",
    "        e_h, e_c = h, c\n",
    "\n",
    "    return decoded_sentence"
   ]
  },
  {
   "cell_type": "code",
   "execution_count": 59,
   "id": "ebe2dc70",
   "metadata": {},
   "outputs": [],
   "source": [
    "# 원문의 정수 시퀀스를 텍스트 시퀀스로 변환\n",
    "def seq2text(input_seq):\n",
    "    temp=''\n",
    "    for i in input_seq:\n",
    "        if (i!=0):\n",
    "            temp = temp + src_index_to_word[i]+' '\n",
    "    return temp\n",
    "\n",
    "# 요약문의 정수 시퀀스를 텍스트 시퀀스로 변환\n",
    "def seq2summary(input_seq):\n",
    "    temp=''\n",
    "    for i in input_seq:\n",
    "        if ((i!=0 and i!=tar_word_to_index['sostoken']) and i!=tar_word_to_index['eostoken']):\n",
    "            temp = temp + tar_index_to_word[i] + ' '\n",
    "    return temp"
   ]
  },
  {
   "cell_type": "code",
   "execution_count": 60,
   "id": "7fe2dfe4",
   "metadata": {
    "scrolled": true
   },
   "outputs": [
    {
     "name": "stdout",
     "output_type": "stream",
     "text": [
      "원문 : india asked united nations declare international year promote nutrition rich smart food across world india maintained promotion production consumption likely contribute substantially fight hunger adding superior wheat rice \n",
      "실제 요약 : india asks un to declare as int year of \n",
      "예측 요약 :  india to offer to india for\n",
      "\n",
      "\n",
      "원문 : malayalam actor dulquer made bollywood debut irrfan khan starrer karwaan said primary focus malayalam films whenever offers come way connect completely open added said actively pursuing films languages \n",
      "실제 요약 : my primary focus will be malayalam films \n",
      "예측 요약 :  not bollywood films to make bollywood debut film kajol\n",
      "\n",
      "\n",
      "원문 : chandigarh stalking accused bjp haryana president subhash barala son vikas released video day granted bail claiming one approached side story vikas said victim case many parties targeting effort tarnish political image vikas claimed video \n",
      "실제 요약 : garh stalking accused releases video calls himself victim \n",
      "예측 요약 :  stalking case filed against bjp leader son\n",
      "\n",
      "\n",
      "원문 : bronze statues wolves performing nazi salute appeared german city exhibition called wolves back aimed highlighting rising racism speaking far right artist said neo nazis used wolves symbol added hoped work spark discussion germany \n",
      "실제 요약 : statues of nazi appear in germany \n",
      "예측 요약 :  thousands attend migrants in italy\n",
      "\n",
      "\n",
      "원문 : world first luxury whiskey launched new campaign titled win right way campaign aims put across brand belief success always collaborative also released new video showcases exists world stereotypes celebrating personal instead team effort collective winning \n",
      "실제 요약 : unveils the power of shared success in latest campaign \n",
      "예측 요약 :  world st to use of world\n",
      "\n",
      "\n",
      "원문 : man threw another man feet high bridge intervening argument girlfriend said police officers us incident occurred victim asked accused girlfriend okay accused charged attempted murder connection encounter left victim seriously injured \n",
      "실제 요약 : man in couple argument gets thrown from bridge \n",
      "예측 요약 :  man who shot dead by man during mouth\n",
      "\n",
      "\n",
      "원문 : motion poster upcoming manoj bajpayee starrer rukh released film also stars adarsh described story family loss rukh marks directorial debut mukherjee feature films scheduled release october \n",
      "실제 요약 : motion poster of manoj bajpayee rukh released \n",
      "예측 요약 :  teaser of comedian happy film on the film unveiled\n",
      "\n",
      "\n",
      "원문 : india ultra high net worth individuals allocated income towards savings investment rest went towards expenses according kotak wealth management report allocated income leisure ad expenditure gave charity report added ultra rich surveyed years age \n",
      "실제 요약 : how do india ultra rich spend their money \n",
      "예측 요약 :  india to get crore in of months\n",
      "\n",
      "\n",
      "원문 : us house representatives tuesday voted approve new sanctions russia interference presidential elections despite president donald trump objecting legislation bill would also levy new sanctions north korea iran nations ballistic missile programs white house officials said reviewing bill \n",
      "실제 요약 : us house approves new sanctions against russia \n",
      "예측 요약 :  us imposes sanctions on venezuelan nuclear deal\n",
      "\n",
      "\n",
      "원문 : actor matthew perry portrayed television series friends said pass canadian pm justin trudeau request perry joked owing pm trudeau currently army disposal april trudeau tweeted giving thought wanted punch \n",
      "실제 요약 : friends actor perry declines canadian pm request \n",
      "예측 요약 :  indo pak is not justin justin trudeau\n",
      "\n",
      "\n",
      "원문 : sacked aap minister kapil mishra monday asserted getting death threats people close delhi cm arvind kejriwal exposing corruption mishra said number circulated twitter whatsapp purpose challenged kejriwal scared fighting war corruption \n",
      "실제 요약 : getting death threats from kejriwal men kapil mishra \n",
      "예측 요약 :  arvind kejriwal wife kapil mishra in delhi polls\n",
      "\n",
      "\n",
      "원문 : us given million worth conditional military aid pakistan access takes action terror groups country move comes amid tensions two nations us president donald trump warned pakistan much lose providing safe havens terrorists \n",
      "실제 요약 : us gives million military aid to pakistan \n",
      "예측 요약 :  us pledges million to aid to us military aid\n",
      "\n",
      "\n",
      "원문 : amitabh bachchan wishing son abhishek bachchan nd birthday shared picture collage tweeted time used hold son hand walk holds mine abhishek said spending birthday australia wife aishwarya daughter aaradhya \n",
      "실제 요약 : earlier held abhishek hand now he holds mine big \n",
      "예측 요약 :  abhishek shares pic with his father from his biopic\n",
      "\n",
      "\n",
      "원문 : actress janhvi kapoor speaking comparisons sara ali khan said competition holds great promise think women support added janhvi said looking forward watching sara films audience member actresses make bollywood debut year \n",
      "실제 요약 : no competition with sara she holds great promise janhvi \n",
      "예측 요약 :  do not know to do films kareena kapoor\n",
      "\n",
      "\n",
      "원문 : flood situation assam affected lakh people taken death toll officials said chief minister sarbananda sonowal wednesday visited flood affected national park ordered setting coordination committee wildlife protection sonowal also visited rescue camps said steps taken repair minor breaches \n",
      "실제 요약 : death toll in assam floods rises to cm visits \n",
      "예측 요약 :  kerala floods donate lakh to flood victims\n",
      "\n",
      "\n",
      "원문 : delhi police claimed decline heinous crimes national capital police added decline crimes women cases registered compared delhi police said incidents murder also decreased marginally compared last year \n",
      "실제 요약 : decline in crimes delhi police \n",
      "예측 요약 :  police officers transferred by cops in delhi\n",
      "\n",
      "\n",
      "원문 : delivery date reliance jiophone reportedly deferred september october pre order phone started august stopped due heavy demand jiophone comes megapixel rear camera mah battery also support languages notably costs three years \n",
      "실제 요약 : reliance jiophone delivery delayed to october reports \n",
      "예측 요약 :  gst on jio services cuts\n",
      "\n",
      "\n",
      "원문 : technology giant google removed option allow users book uber rides directly company maps app however users look route maps app get redirected book ride uber app launched january last year feature pulled android ios platforms \n",
      "실제 요약 : google removes option to book uber rides through maps app \n",
      "예측 요약 :  google launches app to check app for gmail\n",
      "\n",
      "\n",
      "원문 : first international team researchers recreated part dna iceland based man hans died living descendants rather physical remains scientists claim dna anyone born could reconstructed believe would help filling spaces within family trees \n",
      "실제 요약 : dna of man who died in recreated without his remains \n",
      "예측 요약 :  spider man who was the rare passes away\n",
      "\n",
      "\n",
      "원문 : teenage pakistani militant captured moments carrying suicide attack told police militant network behind recent surge attacks pakistan shi ite community religious minority pakistan testimony reportedly described web radical training bomb making facilities stretching eastern afghanistan pakistan sindh \n",
      "실제 요약 : pak teen reveals militant network behind violence \n",
      "예측 요약 :  pakistan claims responsibility for suicide attack\n",
      "\n",
      "\n",
      "원문 : least one child killed others injured school bus collided truck bihar aurangabad district monday incident took place students returning educational trip team doctors looking injured students aurangabad sub divisional officer pradeep kumar said \n",
      "실제 요약 : child killed injured in bus truck collision in bihar \n",
      "예측 요약 :  killed injured in bus collision in up\n",
      "\n",
      "\n",
      "원문 : article condemning incidents violence india hindutva forces congress mp shashi tharoor said seems safer many places days cow muslim also slammed minorities minister mukhtar abbas naqvi claiming big communal riots india past four years \n",
      "실제 요약 : it seems to be cow than muslim shashi tharoor \n",
      "예측 요약 :  muslims must be allowed to islam army leader\n",
      "\n",
      "\n",
      "원문 : one run test cricket scored australia allan border india october th test wankhede stadium mumbai run came bowling debutant raju kulkarni years australian opener charles scored first test run melbourne \n",
      "실제 요약 : test run came vs india after years of tests \n",
      "예측 요약 :  australia first ever test in test history first\n",
      "\n",
      "\n",
      "원문 : entertainment department thane district collectorate sent show cause notice organisers singer justin bieber mumbai concert demanded crore providing complete information sponsors partners local body added fine also applicable people permitted attended concert people entering without buying tickets \n",
      "실제 요약 : local body wants cr fine from bieber concert \n"
     ]
    },
    {
     "name": "stdout",
     "output_type": "stream",
     "text": [
      "예측 요약 :  kannada body bans bmc to promote assets\n",
      "\n",
      "\n",
      "원문 : american package delivery company confirmed hit breach reportedly leaked passports driving licences security ids one lakh customers data belonged international bought located server hosted third party claimed information \n",
      "실제 요약 : confirms breach passports driving licences leaked \n",
      "예측 요약 :  uber to pay million in uk after years\n",
      "\n",
      "\n",
      "원문 : according reports kangana ranaut aamir khan star together upcoming film producer kamal jain recently meeting said meeting regarding collaboration works aamir kangana reportedly work together biopic arunima sinha first female amputee scale mount everest \n",
      "실제 요약 : kangana aamir to star together in upcoming film reports \n",
      "예측 요약 :  kangana to star in film on film report\n",
      "\n",
      "\n",
      "원문 : air india officer reportedly wore kurta pyjamas travelling international flight ai chief ashwani lohani directed staff dress properly maintain proper travelling carrier employees asked behave since represent ai inspection revealed wore slippers even flying official work \n",
      "실제 요약 : air india staff told to behave dress properly on flights \n",
      "예측 요약 :  airline bans air india airline for violating air\n",
      "\n",
      "\n",
      "원문 : actor dileep accused forging documents establish hospitalised treated ailment malayalam actress abducted molested february however investigations conducted special investigation team revealed actor hospitalised even visited film locations period \n",
      "실제 요약 : dileep accused of papers in actress abduction case \n",
      "예측 요약 :  actor actor passes away at\n",
      "\n",
      "\n",
      "원문 : us performing dna tests migrant children bid reunite families tests performed accurately reunite families children could trafficked smuggled claiming parents officials said us court directed government reunite families july \n",
      "실제 요약 : us uses dna tests to reunite migrant children with families \n",
      "예측 요약 :  us school children for children\n",
      "\n",
      "\n",
      "원문 : mumbai based health tech startup health raised million first funding round led founder aman iqbal islands based firm startup software pattern analysis advise users rank healthy risk high risk iqbal launched million healthcare focussed fund \n",
      "실제 요약 : mumbai health tech startup raises mn from founder fund \n",
      "예측 요약 :  startup raises million from softbank\n",
      "\n",
      "\n",
      "원문 : women police officials gurugram tied rakhis hands traffic violators instead issuing challans occasion rakshabandhan spread awareness traffic rules violators surprised gesture promised follow rules future police said many insisted giving money per festival tradition police added \n",
      "실제 요약 : over traffic get instead of \n",
      "예측 요약 :  lucknow police station renamed for wearing\n",
      "\n",
      "\n",
      "원문 : toyota luxury car making division launched hybrid sedan india priced crore fifth generation powered petrol hybrid engine delivers combined output horsepower vehicle go kmph seconds offers mileage kilometres per litre \n",
      "실제 요약 : ls hybrid launched in india at crore \n",
      "예측 요약 :  porsche to build crore in next months\n",
      "\n",
      "\n",
      "원문 : year old navi mumbai student smashed unbeaten semi final navi mumbai shield tournament coach claimed innings spread two days included boundaries sixes coach said match played ground leg side boundary yards side boundary yards \n",
      "실제 요약 : year old mumbai boy smashes runs in match \n",
      "예측 요약 :  man scores in ipl after winning league\n",
      "\n",
      "\n",
      "원문 : year old actress tamil nadu claimed senior journalist prakash swamy sexually harassing last years following death husband sat next home misbehaved literally show door said actress added swamy also harassed women \n",
      "실제 요약 : actor claims journalist sexually harassed her after husband death \n",
      "예측 요약 :  actor accuses of his daughter of his\n",
      "\n",
      "\n",
      "원문 : central bureau investigation lodged fir group housing society allegedly collecting donations name pm narendra modi faridabad registered society narendra modi manch also ran website picture pm modi case criminal conspiracy cheating registered society president unidentified persons \n",
      "실제 요약 : cbi case against society collecting money in pm modi name \n",
      "예측 요약 :  pm modi arrested for cheating in pm modi\n",
      "\n",
      "\n",
      "원문 : urging us lower threshold talks north korea south korean president moon jae called north korean regime show willingness towards denuclearisation added countries sit together quickly us past said talks would possible north korea nuclear missile programmes \n",
      "실제 요약 : us should lower for korea talks korea prez \n",
      "예측 요약 :  korea to korea nuke talks with korea\n",
      "\n",
      "\n",
      "원문 : indian worker escaped isis camp iraq said saying last three years indians killed militants opened fire abducted workers making near railway tracks said claimed pretended dead shot leg \n",
      "실제 요약 : have been saying for yrs is killed indians survivor \n",
      "예측 요약 :  isis claims of isis in kashmir\n",
      "\n",
      "\n",
      "원문 : portrayed actress abusive relationship movie star sacred games said although character similar katrina kaif inspired moment strike dialogues anything salman katrina relationship struck read added \n",
      "실제 요약 : my sacred games character not inspired by katrina \n",
      "예측 요약 :  have no to play in my bollywood deepika\n",
      "\n",
      "\n",
      "원문 : whatsapp registered new domain www lets users open chat window particular contact without visiting app users type url browser available android version however phone number entered user invalid whatsapp send notification \n",
      "실제 요약 : whatsapp registers new name me \n",
      "예측 요약 :  whatsapp launches app feature to prevent users\n",
      "\n",
      "\n",
      "원문 : australia abolished visa category used skilled overseas workers especially indians promote employment locals programme allowed companies employ skilled workers four years majority visa holders category indians comprise nearly intake followed british us citizens \n",
      "실제 요약 : australia scraps work visa programme used by indians \n",
      "예측 요약 :  indian visas for visa visa programme\n",
      "\n",
      "\n",
      "원문 : government asked pnb cbi enforcement directorate share details billion scam institute chartered accountants india high level group constituted accounting body studying systemic issues involved fraud member panel met least three times awaiting information president naveen nd gupta said \n",
      "실제 요약 : govt asks pnb to share scam details with \n",
      "예측 요약 :  cbi books firms for pnb scam\n",
      "\n",
      "\n",
      "원문 : technology major microsoft working build foldable tablet codenamed andromeda feature writing notes digital ink using according reports device folded fit inside user pocket able make receive calls tablet reportedly prototype stage runs windows \n",
      "실제 요약 : microsoft building foldable with digital ink report \n",
      "예측 요약 :  microsoft unveils new smartphone with\n",
      "\n",
      "\n",
      "원문 : jet airways reportedly approached sbi led consortium raise crore order pay part foreign debt carrier reportedly offered cash flows credit card collateral loans however sbi chairman kumar tuesday said bank received formal proposal airline fresh loans \n",
      "실제 요약 : jet airways seeks cr loan to pay foreign debt report \n",
      "예측 요약 :  jet airways to pay crore in debt debt\n",
      "\n",
      "\n",
      "원문 : least three people including eight year old boy killed throat got slit kite string festivities gujarat police said monday one died hospital two died instantly several others injured falling roof flying kites official added \n",
      "실제 요약 : dead after slits in gujarat \n",
      "예측 요약 :  man dies after falling into road in maharashtra\n",
      "\n",
      "\n",
      "원문 : terrorist group al qaeda called attacks india myanmar recently released propaganda magazine according reports recently reported terror group engaging operatives india target religious places spread communal tensions al qaeda south asia unit said active india \n",
      "실제 요약 : al qaeda calls for terror attacks in india reports \n",
      "예측 요약 :  isis qaeda al qaeda al qaeda al report\n",
      "\n",
      "\n",
      "원문 : kannada development authority directed bengaluru metro officials remove hindi signs without waiting state government instructions authority also said even announcements cannot made hindi follows protests pro kannada activists centre tri language policy calling forceful imposition hindi non hindi speaking states \n",
      "실제 요약 : hindi to be removed from bengaluru metro stations \n",
      "예측 요약 :  delhi hc urges hindi hindi hindi hindi\n",
      "\n",
      "\n",
      "원문 : asked question answer session school plans presidency russian president vladimir putin said decided yet leave presidency putin served president two year terms began year term notably russia bans three consecutive presidential terms \n",
      "실제 요약 : may not leave russian presidency vladimir putin \n",
      "예측 요약 :  putin to attend putin summit in us\n",
      "\n",
      "\n",
      "원문 : uk researchers developing country first automated fact checking system dubbed detector alert journalists immune false claims made press parliament tv providing best available evidence early version system rolled testing october part global fake news \n",
      "실제 요약 : detector to warn journalists against fake news \n"
     ]
    },
    {
     "name": "stdout",
     "output_type": "stream",
     "text": [
      "예측 요약 :  sweden bans use of people in\n",
      "\n",
      "\n",
      "원문 : india poses threat pakistan made eastern border unsafe due repeated violations line control pakistan army spokesperson major general asif ghafoor said adding peaceful country want war army spokesperson said pakistan capability defend \n",
      "실제 요약 : india poses threat to us pakistan army \n",
      "예측 요약 :  army army to build army along loc\n",
      "\n",
      "\n",
      "원문 : indian railways operating ratio year reached worst years means public carrier spent paise every rupee earned notably government estimated november last year operating ratio would \n",
      "실제 요약 : railways spent paise for every rupee earned in \n",
      "예측 요약 :  india highest growing growing cities in\n",
      "\n",
      "\n"
     ]
    }
   ],
   "source": [
    "for i in range(50, 100):\n",
    "    print(\"원문 :\", seq2text(encoder_input_test[i]))\n",
    "    print(\"실제 요약 :\", seq2summary(decoder_input_test[i]))\n",
    "    print(\"예측 요약 :\", decode_sequence(encoder_input_test[i].reshape(1, text_max_len)))\n",
    "    print(\"\\n\")"
   ]
  },
  {
   "cell_type": "markdown",
   "id": "9b3c18d9",
   "metadata": {},
   "source": [
    "말이 되는것 같은 예측 요약도 있지만 거의 대부분이 어색하고 실제 요약과의 내용과 차이나는 것을 보인다"
   ]
  },
  {
   "cell_type": "markdown",
   "id": "57f5d271",
   "metadata": {},
   "source": [
    "### Summa을 이용해서 추출적 요약해보기"
   ]
  },
  {
   "cell_type": "code",
   "execution_count": 61,
   "id": "7fe512fc",
   "metadata": {},
   "outputs": [],
   "source": [
    "import requests\n",
    "from summa.summarizer import summarize"
   ]
  },
  {
   "cell_type": "code",
   "execution_count": 65,
   "id": "a6b8026d",
   "metadata": {},
   "outputs": [
    {
     "name": "stdout",
     "output_type": "stream",
     "text": [
      "원문: Former Finance Minister Yashwant Sinha on Tuesday demanded a probe into the alleged diversion of loans worth Ã¢ÂÂ¹31,000 crore by Dewan Housing Finance (DHFL). All agencies including regulators of the government have failed to track nefarious deals, he said. This comes after a media report on Tuesday accused DHFL's controlling shareholders of diverting funds to shell companies to buy assets.\n",
      "실제 요약: Yashwant Sinha demands probe into alleged fund diversion by DHFL\n",
      "예측 요약: Former Finance Minister Yashwant Sinha on Tuesday demanded a probe into the alleged diversion of loans worth Ã¢ÂÂ¹31,000 crore by Dewan Housing Finance (DHFL).\n",
      "\n",
      "\n",
      "원문: US-based Boeing on Wednesday reported annual sales worth $101.12 billion in 2018, the first time the planemaker's sales crossed the $100-billion mark in its 102-year history. The company said it expects to deliver between 895 and 905 commercial aircraft in 2019. Boeing retained its position as the world's largest planemaker for the seventh straight year, delivering 806 aircraft in 2018. \n",
      "실제 요약: Boeing sales cross $100bn for 1st time in its 102-yr history\n",
      "예측 요약: Boeing retained its position as the world's largest planemaker for the seventh straight year, delivering 806 aircraft in 2018.\n",
      "\n",
      "\n",
      "원문: text\n",
      "실제 요약: headlines\n",
      "예측 요약: \n",
      "\n",
      "\n",
      "원문: OnePlus has emerged as India's best-selling premium smartphone brand of 2018, as per a report by Counterpoint. It captured 36% of the market share in the premium segment, in Q4 2018. Further, its OnePlus 6 emerged as the highest selling premium smartphone of 2018 followed by OnePlus 6T.\n",
      "실제 요약: OnePlus named bestselling premium smartphone brand of 2018: Report\n",
      "예측 요약: Further, its OnePlus 6 emerged as the highest selling premium smartphone of 2018 followed by OnePlus 6T.\n",
      "\n",
      "\n",
      "원문: Filmmaker Pooja Bhatt, while talking about the presentation of women in her films, said, \"I can never look at a female body, even if it's naked, in a vulgar manner.\" \"Our audience can say...the women in my films are bold or sensual, but never ever vulgar,\" she added. Pooja further said her censor board is her \"own heart and mind\".\n",
      "실제 요약: Can never look at female body, even if naked, in vulgar way: Pooja\n",
      "예측 요약: Filmmaker Pooja Bhatt, while talking about the presentation of women in her films, said, \"I can never look at a female body, even if it's naked, in a vulgar manner.\" \"Our audience can say...the women in my films are bold or sensual, but never ever vulgar,\" she added.\n",
      "\n",
      "\n",
      "원문: Actress Mishti, who has featured in 'Manikarnika: The Queen of Jhansi', has said the film's co-director Kangana Ranaut made false promises to the cast. \"Kangana had said, 'I want dates because all characters look jumbled up...I'm trying my best to give everybody a prominent space on screen.' After watching the movie, there is no scope for other characters,\" Mishti added. \n",
      "실제 요약: Kangana made fake promises to cast: 'Manikarnika' actress Mishti\n",
      "예측 요약: Actress Mishti, who has featured in 'Manikarnika: The Queen of Jhansi', has said the film's co-director Kangana Ranaut made false promises to the cast.\n",
      "\n",
      "\n",
      "원문: The high-powered committee led by PM Narendra Modi to select the next CBI Director will meet again on February 1, Congress leader Mallikarjun Kharge has said. The panel consisting of Kharge and Chief Justice of India Ranjan Gogoi met on January 24, but the meeting ended \"inconclusively\" after Kharge cited lack of details in the list of 80 IPS officers. \n",
      "실제 요약: PM-led panel to meet on Friday to pick new CBI chief: Kharge\n",
      "예측 요약: The high-powered committee led by PM Narendra Modi to select the next CBI Director will meet again on February 1, Congress leader Mallikarjun Kharge has said.\n",
      "\n",
      "\n",
      "원문: Nevada State Athletic Commission has banned MMA fighters Conor McGregor and Khabib Nurmagomedov for six months and nine months respectively over their roles in the mass brawl that occurred after their fight at UFC 229 last October. McGregor and Khabib have been fined $50,000 (Ã¢ÂÂ¹35 lakh) and $500,000 (Ã¢ÂÂ¹3.5 crore) respectively. The brawl occurred after Nurmagomedov confronted McGregor's teammate.\n",
      "실제 요약: McGregor fined Ã¢ÂÂ¹35 lakh, Khabib Ã¢ÂÂ¹3.5 crore for brawl; both banned\n",
      "예측 요약: Nevada State Athletic Commission has banned MMA fighters Conor McGregor and Khabib Nurmagomedov for six months and nine months respectively over their roles in the mass brawl that occurred after their fight at UFC 229 last October.\n",
      "\n",
      "\n",
      "원문: Pakistan captain Sarfaraz Ahmed, who has been banned for four matches over racist remarks, took an apparent dig at his critics by sharing a video of a child reciting 'log hai na' poem on Twitter. \"Pyaar karna hai to khud se kar...dushmani karne ke liye log hai na,\" the poem read. \"This is how the world is,\" Sarfaraz wrote.\n",
      "실제 요약: Banned for 4 matches, Sarfaraz shares 'log hai na' poem for critics\n",
      "예측 요약: Pakistan captain Sarfaraz Ahmed, who has been banned for four matches over racist remarks, took an apparent dig at his critics by sharing a video of a child reciting 'log hai na' poem on Twitter.\n",
      "\n",
      "\n",
      "원문: Banned cricketer Sreesanth has told Supreme Court he initially confessed to Delhi Police about his alleged involvement in 2013 IPL spot-fixing scandal to escape continuous police torture. Sreesanth further said the bookie tried dragging him into spot-fixing but he didn't fall for it. Citing Sreesanth not informing BCCI about fixing approach, the apex court said Sreesanth's conduct \"wasn't good\".\n",
      "실제 요약: Confessed to spot-fixing to escape police torture: Sreesanth to SC\n",
      "예측 요약: Sreesanth further said the bookie tried dragging him into spot-fixing but he didn't fall for it.\n",
      "\n",
      "\n"
     ]
    }
   ],
   "source": [
    "for i in range(50, 60):\n",
    "    print(\"원문:\", summa_data['text'][i])\n",
    "    print(\"실제 요약:\", summa_data['headlines'][i])\n",
    "    print(\"예측 요약:\", summarize(summa_data['text'][i], ratio=0.5))\n",
    "    print(\"\\n\")"
   ]
  },
  {
   "cell_type": "markdown",
   "id": "cf439ed4",
   "metadata": {},
   "source": [
    "문장 완성도 면에서 추출적요약이 훨씬 나은것을 확인하였다."
   ]
  },
  {
   "cell_type": "markdown",
   "id": "bfe32ea3",
   "metadata": {},
   "source": [
    "# 회고\n",
    "\n",
    "- NLTK의 stopwords를 이용해 불용어를 제거하였다.\n",
    "- 텍스트의 최대 길이와 평균 길이를 통해 임의의 최대길이를 정하고 데이터에서 몇 퍼센트를 차지하는지 구하고 그를 토대로 데이터를 정제하는 것을 실습하였다.\n",
    "- 빈도수와 전체 등장 빈도에서 희귀 단어 등장 빈도 비율을 통해 훈련 데이터에서 제거하는 과정을 하였다.\n",
    "- recurrent dropout를 쓰는 것이 더 좋을 것 같았지만 loss값이 더 높았으며 학습시간이 오래 걸렸다.\n",
    "- NLP는 과정도 그렇지만 결과에 대한 성능 분석이 어려운것 같다. 사람마다 어색한지 괜찮은지 느끼는게 달라서 그런것 같다."
   ]
  },
  {
   "cell_type": "code",
   "execution_count": null,
   "id": "38ad0cc1",
   "metadata": {},
   "outputs": [],
   "source": []
  }
 ],
 "metadata": {
  "kernelspec": {
   "display_name": "Python 3 (ipykernel)",
   "language": "python",
   "name": "python3"
  },
  "language_info": {
   "codemirror_mode": {
    "name": "ipython",
    "version": 3
   },
   "file_extension": ".py",
   "mimetype": "text/x-python",
   "name": "python",
   "nbconvert_exporter": "python",
   "pygments_lexer": "ipython3",
   "version": "3.9.7"
  }
 },
 "nbformat": 4,
 "nbformat_minor": 5
}
