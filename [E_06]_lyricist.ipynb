{
 "cells": [
  {
   "cell_type": "markdown",
   "id": "921f954d",
   "metadata": {},
   "source": [
    "# 루브릭\n",
    "\n",
    "1. 데이터의 전처리 및 구성과정이 체계적으로 진행되었는가?\n",
    " - 특수문자 제거, 토크나이저 생성, 패딩 처리의 작업들이 빠짐없이 진행되었는가? (0)\n",
    "2. 가사 텍스트 생성 모델이 정상적으로 동작하는가? \n",
    " - 텍스트 제너레이션 결과로 생성된 문장이 해석 가능한 문장인가? (0)\n",
    "3. 텍스트 생성모델이 안정적으로 학습되었는가?\n",
    " - 텍스트 생성모델의 validation loss가 2.2 이하로 낮아졌는가? (0)"
   ]
  },
  {
   "cell_type": "code",
   "execution_count": 1,
   "id": "fab6434f",
   "metadata": {},
   "outputs": [
    {
     "name": "stdout",
     "output_type": "stream",
     "text": [
      "2.6.0\n"
     ]
    }
   ],
   "source": [
    "import glob  #glob 모듈의 glob 함수는 사용자가 제시한 조건에 맞는 파일명을 리스트 형식으로 반환한다\n",
    "import tensorflow as tf\n",
    "import os, re \n",
    "import numpy as np\n",
    "\n",
    "print(tf.__version__)"
   ]
  },
  {
   "cell_type": "code",
   "execution_count": 2,
   "id": "f3161cab",
   "metadata": {},
   "outputs": [
    {
     "name": "stdout",
     "output_type": "stream",
     "text": [
      "데이터 크기: 187088\n",
      "Examples:\n",
      " ['', '', '[Spoken Intro:]']\n"
     ]
    }
   ],
   "source": [
    "txt_file_path = os.getenv('HOME')+'/aiffel/lyricist/data/lyrics/*'\n",
    "\n",
    "txt_list = glob.glob(txt_file_path)\n",
    "\n",
    "raw_corpus = [] \n",
    "\n",
    "for txt_file in txt_list:\n",
    "    with open(txt_file, \"r\") as f:\n",
    "        raw = f.read().splitlines()\n",
    "        raw_corpus.extend(raw)\n",
    "\n",
    "print(\"데이터 크기:\", len(raw_corpus))\n",
    "print(\"Examples:\\n\", raw_corpus[:3])"
   ]
  },
  {
   "cell_type": "markdown",
   "id": "4763022b",
   "metadata": {},
   "source": [
    "## 데이터 정제"
   ]
  },
  {
   "cell_type": "code",
   "execution_count": 3,
   "id": "a06be0d9",
   "metadata": {},
   "outputs": [],
   "source": [
    "def preprocess_sentence(sentence):\n",
    "    sentence = sentence.lower().strip() # 1\n",
    "    sentence = re.sub(r\"([?.!,¿])\", r\" \\1 \", sentence) # 2\n",
    "    sentence = re.sub(r'[\" \"]+', \" \", sentence) # 3\n",
    "    sentence = re.sub(r\"[^a-zA-Z?.!,¿]+\", \" \", sentence) # 4\n",
    "    sentence = sentence.strip() # 5\n",
    "    sentence = '<start> ' + sentence + ' <end>' # 6\n",
    "    return sentence"
   ]
  },
  {
   "cell_type": "code",
   "execution_count": 4,
   "id": "a5691a91",
   "metadata": {},
   "outputs": [
    {
     "data": {
      "text/plain": [
       "163488"
      ]
     },
     "execution_count": 4,
     "metadata": {},
     "output_type": "execute_result"
    }
   ],
   "source": [
    "corpus = []\n",
    "\n",
    "for sentence in raw_corpus:\n",
    "    if len(sentence) == 0: continue\n",
    "    if sentence[-1] == \":\": continue\n",
    "    \n",
    "    preprocessed_sentence = preprocess_sentence(sentence)\n",
    "    le = preprocessed_sentence.split()\n",
    "    if len(le) > 17: continue\n",
    "    corpus.append(preprocessed_sentence)\n",
    "    \n",
    "    \n",
    "len(corpus)"
   ]
  },
  {
   "cell_type": "markdown",
   "id": "f1c24a56",
   "metadata": {},
   "source": [
    "- 앞뒤로 start, end까지 포함하여 문장 수가 17가 넘어가는 문장은 학습데이터에서 제외하였다."
   ]
  },
  {
   "cell_type": "markdown",
   "id": "8a6a0f20",
   "metadata": {},
   "source": [
    "## 평가 데이터셋 분리"
   ]
  },
  {
   "cell_type": "code",
   "execution_count": 5,
   "id": "67bc2d0e",
   "metadata": {},
   "outputs": [],
   "source": [
    "def tokenize(corpus):\n",
    "    tokenizer = tf.keras.preprocessing.text.Tokenizer(\n",
    "        num_words=13000, \n",
    "        filters=' ',\n",
    "        oov_token=\"<unk>\"\n",
    "    )\n",
    "\n",
    "    tokenizer.fit_on_texts(corpus)\n",
    "    \n",
    "    tensor = tokenizer.texts_to_sequences(corpus)   \n",
    "    tensor = tf.keras.preprocessing.sequence.pad_sequences(tensor, padding='post',maxlen=20)  \n",
    "\n",
    "    return tensor, tokenizer"
   ]
  },
  {
   "cell_type": "code",
   "execution_count": 6,
   "id": "17467d79",
   "metadata": {},
   "outputs": [],
   "source": [
    "tensor, tokenizer = tokenize(corpus)\n",
    "\n",
    "src_input = tensor[:, :-1]\n",
    "tgt_input = tensor[:, 1:]"
   ]
  },
  {
   "cell_type": "code",
   "execution_count": 7,
   "id": "e60249b6",
   "metadata": {},
   "outputs": [],
   "source": [
    "from sklearn.model_selection import train_test_split\n",
    "\n",
    "enc_train, enc_val, dec_train, dec_val = train_test_split(src_input, tgt_input, test_size=0.2, random_state=55)"
   ]
  },
  {
   "cell_type": "markdown",
   "id": "b2b95b45",
   "metadata": {},
   "source": [
    "- tokenize() 함수로 데이터를 Tensor로 변환후 src_input, tgt_input로 나눈뒤 train_test_split()을 이용하여 train과 vaildation 데이터로 나눔"
   ]
  },
  {
   "cell_type": "markdown",
   "id": "cec5d6fa",
   "metadata": {},
   "source": [
    "## 모델 만들기"
   ]
  },
  {
   "cell_type": "code",
   "execution_count": 8,
   "id": "8df79d12",
   "metadata": {},
   "outputs": [],
   "source": [
    "BUFFER_SIZE = len(src_input)\n",
    "BATCH_SIZE = 256\n",
    "steps_per_epoch = len(src_input) // BATCH_SIZE\n",
    "\n",
    "VOCAB_SIZE = tokenizer.num_words + 1    # tokenizer.num_words에 +1인 이유는 문장에 없는 pad가 사용되었기 때문이다.\n",
    "\n",
    "train_dataset = tf.data.Dataset.from_tensor_slices((enc_train, dec_train))\n",
    "train_dataset = train_dataset.shuffle(BUFFER_SIZE)\n",
    "train_dataset = train_dataset.batch(BATCH_SIZE, drop_remainder=True)\n",
    "train_dataset = train_dataset.prefetch(tf.data.experimental.AUTOTUNE)\n",
    "\n",
    "val_dataset = tf.data.Dataset.from_tensor_slices((enc_val, dec_val))\n",
    "val_dataset = val_dataset.batch(BATCH_SIZE, drop_remainder=True)\n",
    "val_dataset = val_dataset.prefetch(tf.data.experimental.AUTOTUNE)"
   ]
  },
  {
   "cell_type": "markdown",
   "id": "1559f020",
   "metadata": {},
   "source": [
    "- from_tensor_slices() 메서드를 사용하여 enc_train과 dec_train을 묶는다.\n",
    "- shuffle() 사용하여 데이터를 랜덤하게 섞는다.\n",
    "- batch() 메서드를 사용하여 각 데이터셋을 미니배치로 묶는다.\n",
    "- (drop_remainder=True)는 마지막 배치가 지정된 크기보다 작은 경우 해당 배치를 삭제\n",
    "- prefetch() 함수를 사용하여 데이터를 미리 가져오도록 설정\n",
    "- prefetch() 함수에서 AUTOTUNE 옵션을 사용하면, TensorFlow는 데이터를 미리 가져오는 동안 CPU와 GPU를 병렬적으로 사용하여 학습 속도를 높일 수 있다."
   ]
  },
  {
   "cell_type": "code",
   "execution_count": 9,
   "id": "d46a107e",
   "metadata": {},
   "outputs": [],
   "source": [
    "class TextGenerator(tf.keras.Model):\n",
    "    def __init__(self, vocab_size, embedding_size, hidden_size):\n",
    "        super().__init__()\n",
    "        self.embedding = tf.keras.layers.Embedding(vocab_size, embedding_size) \n",
    "        self.rnn_1 = tf.keras.layers.LSTM(hidden_size, return_sequences=True)  \n",
    "        self.rnn_2 = tf.keras.layers.LSTM(hidden_size, return_sequences=True)\n",
    "        self.linear = tf.keras.layers.Dense(vocab_size)\n",
    "        \n",
    "    def call(self, x):\n",
    "        out = self.embedding(x)\n",
    "        out = self.rnn_1(out)\n",
    "        out = self.rnn_2(out)\n",
    "        out = self.linear(out)\n",
    "        \n",
    "        return out"
   ]
  },
  {
   "cell_type": "code",
   "execution_count": 10,
   "id": "65ea26db",
   "metadata": {},
   "outputs": [],
   "source": [
    "embedding_size = 256\n",
    "hidden_size = 1024\n",
    "model = TextGenerator(VOCAB_SIZE, embedding_size , hidden_size)"
   ]
  },
  {
   "cell_type": "code",
   "execution_count": 11,
   "id": "6ef80f4c",
   "metadata": {},
   "outputs": [],
   "source": [
    "optimizer = tf.keras.optimizers.Adam()\n",
    "loss = tf.keras.losses.SparseCategoricalCrossentropy( \n",
    "    from_logits=True, \n",
    "    reduction='none'\n",
    ")"
   ]
  },
  {
   "cell_type": "code",
   "execution_count": 12,
   "id": "0dba352e",
   "metadata": {},
   "outputs": [
    {
     "name": "stdout",
     "output_type": "stream",
     "text": [
      "Epoch 1/10\n",
      "510/510 [==============================] - 157s 250ms/step - loss: 2.7896 - val_loss: 2.4716\n",
      "Epoch 2/10\n",
      "510/510 [==============================] - 134s 262ms/step - loss: 2.3639 - val_loss: 2.2964\n",
      "Epoch 3/10\n",
      "510/510 [==============================] - 135s 265ms/step - loss: 2.2275 - val_loss: 2.2101\n",
      "Epoch 4/10\n",
      "510/510 [==============================] - 135s 265ms/step - loss: 2.1307 - val_loss: 2.1475\n",
      "Epoch 5/10\n",
      "510/510 [==============================] - 135s 265ms/step - loss: 2.0493 - val_loss: 2.0977\n",
      "Epoch 6/10\n",
      "510/510 [==============================] - 136s 266ms/step - loss: 1.9771 - val_loss: 2.0579\n",
      "Epoch 7/10\n",
      "510/510 [==============================] - 135s 265ms/step - loss: 1.9088 - val_loss: 2.0218\n",
      "Epoch 8/10\n",
      "510/510 [==============================] - 135s 265ms/step - loss: 1.8437 - val_loss: 1.9902\n",
      "Epoch 9/10\n",
      "510/510 [==============================] - 136s 265ms/step - loss: 1.7807 - val_loss: 1.9640\n",
      "Epoch 10/10\n",
      "510/510 [==============================] - 136s 265ms/step - loss: 1.7213 - val_loss: 1.9421\n"
     ]
    },
    {
     "data": {
      "text/plain": [
       "<keras.callbacks.History at 0x7fd550097910>"
      ]
     },
     "execution_count": 12,
     "metadata": {},
     "output_type": "execute_result"
    }
   ],
   "source": [
    "model.compile(loss=loss, optimizer=optimizer)\n",
    "model.fit(train_dataset, epochs=10, validation_data=val_dataset) "
   ]
  },
  {
   "cell_type": "markdown",
   "id": "0c0890c2",
   "metadata": {},
   "source": [
    "validation loss가 1.9421로 2.2이하로 내려간것을 확인할 수 있다."
   ]
  },
  {
   "cell_type": "code",
   "execution_count": 13,
   "id": "5246fd10",
   "metadata": {},
   "outputs": [
    {
     "name": "stdout",
     "output_type": "stream",
     "text": [
      "Model: \"text_generator\"\n",
      "_________________________________________________________________\n",
      "Layer (type)                 Output Shape              Param #   \n",
      "=================================================================\n",
      "embedding (Embedding)        multiple                  3328256   \n",
      "_________________________________________________________________\n",
      "lstm (LSTM)                  multiple                  5246976   \n",
      "_________________________________________________________________\n",
      "lstm_1 (LSTM)                multiple                  8392704   \n",
      "_________________________________________________________________\n",
      "dense (Dense)                multiple                  13326025  \n",
      "=================================================================\n",
      "Total params: 30,293,961\n",
      "Trainable params: 30,293,961\n",
      "Non-trainable params: 0\n",
      "_________________________________________________________________\n"
     ]
    }
   ],
   "source": [
    "model.summary()"
   ]
  },
  {
   "cell_type": "code",
   "execution_count": 14,
   "id": "a9468bab",
   "metadata": {},
   "outputs": [],
   "source": [
    "def generate_text(model, tokenizer, init_sentence=\"<start>\", max_len=20): #시작 문자열을 init_sentence 로 받으며 디폴트값은 <start> 를 받는다\n",
    "    # 테스트를 위해서 입력받은 init_sentence도 텐서로 변환합니다\n",
    "    test_input = tokenizer.texts_to_sequences([init_sentence]) #텍스트 안의 단어들을 숫자의 시퀀스의 형태로 변환\n",
    "    test_tensor = tf.convert_to_tensor(test_input, dtype=tf.int64)\n",
    "    end_token = tokenizer.word_index[\"<end>\"]\n",
    "\n",
    "    # 단어 하나씩 예측해 문장을 만듭니다\n",
    "    #    1. 입력받은 문장의 텐서를 입력합니다\n",
    "    #    2. 예측된 값 중 가장 높은 확률인 word index를 뽑아냅니다\n",
    "    #    3. 2에서 예측된 word index를 문장 뒤에 붙입니다\n",
    "    #    4. 모델이 <end>를 예측했거나, max_len에 도달했다면 문장 생성을 마칩니다 (도달 하지 못하였으면 while 루프를 돌면서 다음 단어를 예측)\n",
    "    while True: #루프를 돌면서 init_sentence에 단어를 하나씩 생성성\n",
    "        # 1\n",
    "        predict = model(test_tensor) \n",
    "        # 2\n",
    "        predict_word = tf.argmax(tf.nn.softmax(predict, axis=-1), axis=-1)[:, -1] \n",
    "        # 3 \n",
    "        test_tensor = tf.concat([test_tensor, tf.expand_dims(predict_word, axis=0)], axis=-1)\n",
    "        # 4 \n",
    "        if predict_word.numpy()[0] == end_token: break\n",
    "        if test_tensor.shape[1] >= max_len: break\n",
    "\n",
    "    generated = \"\"\n",
    "    # tokenizer를 이용해 word index를 단어로 하나씩 변환합니다 \n",
    "    for word_index in test_tensor[0].numpy():\n",
    "        generated += tokenizer.index_word[word_index] + \" \"\n",
    "\n",
    "    return generated #최종적으로 모델이 생성한 문장을 반환"
   ]
  },
  {
   "cell_type": "code",
   "execution_count": 19,
   "id": "3b90871e",
   "metadata": {},
   "outputs": [
    {
     "name": "stdout",
     "output_type": "stream",
     "text": [
      "<start> this night i m a freak <end> \n",
      "<start> i can t help you , i m better <end> \n",
      "<start> from the <unk> of the lamb <end> \n",
      "<start> your steps are on fire <end> \n",
      "<start> don t cut it off <end> \n",
      "<start> now i m a voodoo chile <end> \n",
      "<start> could you be the same <end> \n",
      "<start> a little bit of the night <end> \n",
      "<start> if you want me , you re a liar <end> \n",
      "<start> if you re a good girl , you better work bitch <end> \n",
      "<start> let me see you again <end> \n"
     ]
    }
   ],
   "source": [
    "ly = ['<start> This night', '<start> I can', '<start> From the', '<start> Your steps', '<start> Don t cut', '<start> Now I m'\n",
    "      , '<start> Could you', '<start> A little', '<start> If you', '<start> If you re', '<start> Let me']\n",
    "for i in ly:\n",
    "    generated = generate_text(model, tokenizer, init_sentence=i, max_len=20)\n",
    "    print(generated)\n"
   ]
  },
  {
   "cell_type": "markdown",
   "id": "bdafc5d6",
   "metadata": {},
   "source": [
    "Let Me Down Slowly - 앨릭 벤저민의 노래가사의 일부의 앞부분만 가져와서 문장을 생성해보았다. <br/>\n",
    "노래가사와는 당연히 맞지 않지만 거의 문장이 자연스럽게 나온 것을 볼 수 있다."
   ]
  },
  {
   "cell_type": "markdown",
   "id": "d7269da6",
   "metadata": {},
   "source": [
    "---\n",
    "## 회고\n",
    "\n",
    " - 처음 해보는 NLP 프로젝트였는데 생각보다 재미있었다.\n",
    " - 처음 보는 것들이 있어 이해하는데 시간이 걸렸지만 배운것이 생겨 좋았다.\n",
    " - 더 많은 단어와 문장을 가지고 학습을 시켜 모델을 만들면 더 좋게 나올듯하여 궁금해졌다.\n",
    " - 생각이상으로 생성한 문장이 자연스러워 놀라웠다."
   ]
  },
  {
   "cell_type": "code",
   "execution_count": null,
   "id": "578455e5",
   "metadata": {},
   "outputs": [],
   "source": []
  }
 ],
 "metadata": {
  "kernelspec": {
   "display_name": "Python 3 (ipykernel)",
   "language": "python",
   "name": "python3"
  },
  "language_info": {
   "codemirror_mode": {
    "name": "ipython",
    "version": 3
   },
   "file_extension": ".py",
   "mimetype": "text/x-python",
   "name": "python",
   "nbconvert_exporter": "python",
   "pygments_lexer": "ipython3",
   "version": "3.9.7"
  }
 },
 "nbformat": 4,
 "nbformat_minor": 5
}
