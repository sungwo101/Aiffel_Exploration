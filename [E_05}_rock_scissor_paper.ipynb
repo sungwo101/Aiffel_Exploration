{
 "cells": [
  {
   "cell_type": "markdown",
   "id": "828713a4",
   "metadata": {},
   "source": [
    "# 루브릭\n",
    "\n",
    "1. 이미지 분류기 모델이 성공적으로 만들어졌는가?<br/>\n",
    "학습과정이 정상적으로 수행되었으며, 학습 결과에 대한 그래프를 시각화(ex. train acc / train loss / val acc / val loss 등) 해 보았음<br/><br/>\n",
    "2. 오버피팅을 극복하기 위한 적절한 시도가 있었는가?\n",
    "오버피팅 극복을 위하여 데이터셋의 다양성, 정규화 등을 2가지 이상 시도해보았음<br/><br/>\n",
    "3. 분류모델의 test accuracy가 기준 이상 높게 나왔는가?\n",
    "60% 이상 도달하였음"
   ]
  },
  {
   "cell_type": "code",
   "execution_count": 3,
   "id": "3614e60c",
   "metadata": {},
   "outputs": [
    {
     "name": "stdout",
     "output_type": "stream",
     "text": [
      "2.6.0\n",
      "1.21.4\n"
     ]
    }
   ],
   "source": [
    "import tensorflow as tf\n",
    "import numpy as np\n",
    "\n",
    "print(tf.__version__)\n",
    "print(np.__version__)"
   ]
  },
  {
   "cell_type": "code",
   "execution_count": 4,
   "id": "233f4abd",
   "metadata": {},
   "outputs": [],
   "source": [
    "from PIL import Image\n",
    "import glob\n",
    "import matplotlib.pyplot as plt\n",
    "import os"
   ]
  },
  {
   "cell_type": "markdown",
   "id": "7fc46d8e",
   "metadata": {},
   "source": [
    "### 데이터 준비"
   ]
  },
  {
   "cell_type": "code",
   "execution_count": 5,
   "id": "73d8aec4",
   "metadata": {},
   "outputs": [],
   "source": [
    "def resize_images(img_path):\n",
    "    images=glob.glob(img_path + \"/*.jpg\")  \n",
    "    \n",
    "    print(len(images), \" images to be resized.\")\n",
    "\n",
    "    # 파일마다 모두 28x28 사이즈로 바꾸어 저장합니다.\n",
    "    target_size=(28,28)\n",
    "    for img in images:\n",
    "        old_img=Image.open(img)\n",
    "        new_img=old_img.resize(target_size,Image.ANTIALIAS)\n",
    "        new_img.save(img, \"JPEG\")\n",
    "    \n",
    "    print(len(images), \" images resized.\")"
   ]
  },
  {
   "cell_type": "code",
   "execution_count": 152,
   "id": "a7a12d58",
   "metadata": {},
   "outputs": [],
   "source": [
    "s_image_dir_path = os.getenv(\"HOME\") + \"/aiffel/rock_scissor_paper/scissor\"\n",
    "r_image_dir_path = os.getenv(\"HOME\") + \"/aiffel/rock_scissor_paper/rock\"\n",
    "p_image_dir_path = os.getenv(\"HOME\") + \"/aiffel/rock_scissor_paper/paper\""
   ]
  },
  {
   "cell_type": "code",
   "execution_count": 189,
   "id": "345ea2b0",
   "metadata": {},
   "outputs": [
    {
     "name": "stdout",
     "output_type": "stream",
     "text": [
      "500  images to be resized.\n",
      "500  images resized.\n",
      "500  images to be resized.\n",
      "500  images resized.\n",
      "500  images to be resized.\n",
      "500  images resized.\n"
     ]
    }
   ],
   "source": [
    "resize_images(s_image_dir_path)\n",
    "resize_images(r_image_dir_path)\n",
    "resize_images(p_image_dir_path)"
   ]
  },
  {
   "cell_type": "markdown",
   "id": "5d5dd343",
   "metadata": {},
   "source": [
    " - 가위, 바위, 보 각각 500장씩 총 1500장 사진 학습"
   ]
  },
  {
   "cell_type": "code",
   "execution_count": 190,
   "id": "3418eb92",
   "metadata": {},
   "outputs": [],
   "source": [
    "import numpy as np\n",
    "\n",
    "def load_data_train(img_path, number_of_data=1500):  # 가위 바위 보 총 900개의 이미지 사용(3명의 데이터 혼합)\n",
    "    # 가위 : 0, 바위 : 1, 보 : 2\n",
    "    img_size=28\n",
    "    color=3\n",
    "    #이미지 데이터와 라벨(가위 : 0, 바위 : 1, 보 : 2) 데이터를 담을 행렬(matrix) 영역을 생성합니다.\n",
    "    imgs=np.zeros(number_of_data*img_size*img_size*color,dtype=np.int32).reshape(number_of_data,img_size,img_size,color)\n",
    "    labels=np.zeros(number_of_data,dtype=np.int32)\n",
    "\n",
    "    idx=0\n",
    "    for file in glob.iglob(img_path+'/scissor/*.jpg'):\n",
    "        img = np.array(Image.open(file),dtype=np.int32)\n",
    "        imgs[idx,:,:,:]=img    # 데이터 영역에 이미지 행렬을 복사\n",
    "        labels[idx]=0   # 가위 : 0\n",
    "        idx=idx+1\n",
    "\n",
    "    for file in glob.iglob(img_path+'/rock/*.jpg'):\n",
    "        img = np.array(Image.open(file),dtype=np.int32)\n",
    "        imgs[idx,:,:,:]=img \n",
    "        labels[idx]=1   # 바위 : 1\n",
    "        idx=idx+1  \n",
    "    \n",
    "    for file in glob.iglob(img_path+'/paper/*.jpg'):\n",
    "        img = np.array(Image.open(file),dtype=np.int32)\n",
    "        imgs[idx,:,:,:]=img \n",
    "        labels[idx]=2   # 보 : 2\n",
    "        idx=idx+1\n",
    "        \n",
    "    print(\"학습데이터(x_train)의 이미지 개수는\", idx,\"입니다.\")\n",
    "    return imgs, labels"
   ]
  },
  {
   "cell_type": "code",
   "execution_count": 191,
   "id": "23fba586",
   "metadata": {},
   "outputs": [
    {
     "name": "stdout",
     "output_type": "stream",
     "text": [
      "학습데이터(x_train)의 이미지 개수는 1500 입니다.\n"
     ]
    }
   ],
   "source": [
    "image_dir_path = os.getenv(\"HOME\") + \"/aiffel/rock_scissor_paper\"\n",
    "(x_train, y_train)=load_data_train(image_dir_path)"
   ]
  },
  {
   "cell_type": "code",
   "execution_count": 192,
   "id": "bcae93c2",
   "metadata": {},
   "outputs": [
    {
     "name": "stdout",
     "output_type": "stream",
     "text": [
      "최소값: 0  최대값: 255\n"
     ]
    }
   ],
   "source": [
    "print('최소값:',np.min(x_train), ' 최대값:',np.max(x_train))"
   ]
  },
  {
   "cell_type": "code",
   "execution_count": 193,
   "id": "8999b39f",
   "metadata": {},
   "outputs": [
    {
     "name": "stdout",
     "output_type": "stream",
     "text": [
      "x_train shape: (1500, 28, 28, 3)\n",
      "y_train shape: (1500,)\n"
     ]
    }
   ],
   "source": [
    "x_train_norm = x_train/255.0   # 입력은 0~1 사이의 값으로 정규화\n",
    "\n",
    "print(\"x_train shape: {}\".format(x_train.shape))\n",
    "print(\"y_train shape: {}\".format(y_train.shape))"
   ]
  },
  {
   "cell_type": "code",
   "execution_count": 194,
   "id": "7580b820",
   "metadata": {},
   "outputs": [],
   "source": [
    "from sklearn.model_selection import train_test_split\n",
    "\n",
    "x_train, x_valid, y_train, y_valid = train_test_split(x_train_norm, y_train, test_size=0.2, shuffle=True, stratify=y_train, random_state=34)"
   ]
  },
  {
   "cell_type": "code",
   "execution_count": 195,
   "id": "4c4109df",
   "metadata": {},
   "outputs": [],
   "source": [
    "def load_data_test(img_path, number_of_data=500):\n",
    "    # 가위 : 0, 바위 : 1, 보 : 2\n",
    "    img_size=28\n",
    "    color=3\n",
    "    imgs=np.zeros(number_of_data*img_size*img_size*color,dtype=np.int32).reshape(number_of_data,img_size,img_size,color)\n",
    "    labels=np.zeros(number_of_data,dtype=np.int32)\n",
    "\n",
    "    idx=0\n",
    "    for file in glob.iglob(img_path+'/scissor/*.jpg'):\n",
    "        img = np.array(Image.open(file),dtype=np.int32)\n",
    "        imgs[idx,:,:,:]=img \n",
    "        labels[idx]=0   # 가위 : 0\n",
    "        idx=idx+1\n",
    "\n",
    "    for file in glob.iglob(img_path+'/rock/*.jpg'):\n",
    "        img = np.array(Image.open(file),dtype=np.int32)\n",
    "        imgs[idx,:,:,:]=img \n",
    "        labels[idx]=1   # 바위 : 1\n",
    "        idx=idx+1  \n",
    "    \n",
    "    for file in glob.iglob(img_path+'/paper/*.jpg'):\n",
    "        img = np.array(Image.open(file),dtype=np.int32)\n",
    "        imgs[idx,:,:,:]=img\n",
    "        labels[idx]=2   # 보 : 2\n",
    "        idx=idx+1\n",
    "        \n",
    "    print(\"x_test의 이미지 개수는\", idx,\"입니다.\")\n",
    "    return imgs, labels"
   ]
  },
  {
   "cell_type": "code",
   "execution_count": 196,
   "id": "653449f1",
   "metadata": {},
   "outputs": [
    {
     "name": "stdout",
     "output_type": "stream",
     "text": [
      "100  images to be resized.\n",
      "100  images resized.\n",
      "100  images to be resized.\n",
      "100  images resized.\n",
      "100  images to be resized.\n",
      "100  images resized.\n",
      "x_test의 이미지 개수는 300 입니다.\n",
      "x_test shape: (500, 28, 28, 3)\n",
      "y_test shape: (500,)\n"
     ]
    }
   ],
   "source": [
    "rock_dir_path = os.getenv(\"HOME\") + \"/aiffel/rock_scissor_paper/test/rock\"\n",
    "paper_dir_path = os.getenv(\"HOME\") + \"/aiffel/rock_scissor_paper/test/paper\"\n",
    "scissor_dir_path = os.getenv(\"HOME\") + \"/aiffel/rock_scissor_paper/test/scissor\"\n",
    "image_dir_path = os.getenv(\"HOME\") + \"/aiffel/rock_scissor_paper/test\"\n",
    "\n",
    "resize_images(rock_dir_path)\n",
    "resize_images(paper_dir_path)\n",
    "resize_images(scissor_dir_path)\n",
    "\n",
    "(x_test, y_test)=load_data_test(image_dir_path)\n",
    "x_test_norm = x_test/255.0   # 입력은 0~1 사이의 값으로 정규화\n",
    "\n",
    "print(\"x_test shape: {}\".format(x_test.shape))\n",
    "print(\"y_test shape: {}\".format(y_test.shape))"
   ]
  },
  {
   "cell_type": "markdown",
   "id": "e0b7eea7",
   "metadata": {},
   "source": [
    "- test 이미지는 기존에 주어지는 이미지로 가위, 바위, 보 100장 씩 총 300장을 이용하여 진행합니다."
   ]
  },
  {
   "cell_type": "code",
   "execution_count": 197,
   "id": "cc1cee7e",
   "metadata": {},
   "outputs": [
    {
     "name": "stdout",
     "output_type": "stream",
     "text": [
      "라벨:  1\n"
     ]
    },
    {
     "data": {
      "image/png": "[encoded data removed]",
      "text/plain": [
       "<Figure size 432x288 with 1 Axes>"
      ]
     },
     "metadata": {
      "needs_background": "light"
     },
     "output_type": "display_data"
    }
   ],
   "source": [
    "plt.imshow(x_train[0])\n",
    "print('라벨: ', y_train[0])"
   ]
  },
  {
   "cell_type": "code",
   "execution_count": 230,
   "id": "3cdafe29",
   "metadata": {},
   "outputs": [
    {
     "name": "stdout",
     "output_type": "stream",
     "text": [
      "Model: \"sequential_47\"\n",
      "_________________________________________________________________\n",
      "Layer (type)                 Output Shape              Param #   \n",
      "=================================================================\n",
      "conv2d_128 (Conv2D)          (None, 26, 26, 32)        896       \n",
      "_________________________________________________________________\n",
      "max_pooling2d_124 (MaxPoolin (None, 13, 13, 32)        0         \n",
      "_________________________________________________________________\n",
      "conv2d_129 (Conv2D)          (None, 11, 11, 64)        18496     \n",
      "_________________________________________________________________\n",
      "max_pooling2d_125 (MaxPoolin (None, 5, 5, 64)          0         \n",
      "_________________________________________________________________\n",
      "flatten_44 (Flatten)         (None, 1600)              0         \n",
      "_________________________________________________________________\n",
      "dense_88 (Dense)             (None, 16)                25616     \n",
      "_________________________________________________________________\n",
      "dropout_38 (Dropout)         (None, 16)                0         \n",
      "_________________________________________________________________\n",
      "dense_89 (Dense)             (None, 3)                 51        \n",
      "=================================================================\n",
      "Total params: 45,059\n",
      "Trainable params: 45,059\n",
      "Non-trainable params: 0\n",
      "_________________________________________________________________\n"
     ]
    }
   ],
   "source": [
    "import tensorflow as tf\n",
    "from tensorflow import keras\n",
    "import numpy as np\n",
    "\n",
    "\n",
    "n_channel_1 = 32\n",
    "n_channel_2 = 64\n",
    "#n_channel_3 = 32\n",
    "n_dense = 16\n",
    "n_train_epoch=15\n",
    "\n",
    "model=keras.models.Sequential()\n",
    "model.add(keras.layers.Conv2D(n_channel_1, (3,3), activation='relu', input_shape=(28,28,3)))\n",
    "model.add(keras.layers.MaxPool2D(2,2))\n",
    "model.add(keras.layers.Conv2D(n_channel_2, (3,3), activation='relu'))\n",
    "model.add(keras.layers.MaxPooling2D((2,2)))\n",
    "#model.add(keras.layers.Conv2D(n_channel_3, (3,3), activation='relu'))\n",
    "#model.add(keras.layers.MaxPooling2D((2,2)))\n",
    "model.add(keras.layers.Flatten())\n",
    "model.add(keras.layers.Dense(n_dense, activation='relu'))\n",
    "model.add(keras.layers.Dropout(rate=0.2)) \n",
    "model.add(keras.layers.Dense(3, activation='softmax'))\n",
    "\n",
    "model.summary()"
   ]
  },
  {
   "cell_type": "markdown",
   "id": "21e30c98",
   "metadata": {},
   "source": [
    "- Conv2D, MaxPool2D로 이루어진 4개의 층과 6개의 층으로 비교해보았는데 6개의 층은 생각보다 test accuracy가 좋지 못하여 4개의 층으로 사용\n",
    "- 컨볼루션의 출력 필터는 32, 64개로 설정\n",
    "- Dropout을 이용하여 20%의 노드들에 적용"
   ]
  },
  {
   "cell_type": "code",
   "execution_count": 231,
   "id": "e05d46ba",
   "metadata": {},
   "outputs": [
    {
     "name": "stdout",
     "output_type": "stream",
     "text": [
      "Epoch 1/15\n",
      "38/38 [==============================] - 1s 8ms/step - loss: 1.0812 - accuracy: 0.3967 - val_loss: 1.0384 - val_accuracy: 0.5600\n",
      "Epoch 2/15\n",
      "38/38 [==============================] - 0s 4ms/step - loss: 0.9670 - accuracy: 0.5658 - val_loss: 0.8647 - val_accuracy: 0.5900\n",
      "Epoch 3/15\n",
      "38/38 [==============================] - 0s 4ms/step - loss: 0.7542 - accuracy: 0.6842 - val_loss: 0.5746 - val_accuracy: 0.8633\n",
      "Epoch 4/15\n",
      "38/38 [==============================] - 0s 4ms/step - loss: 0.5269 - accuracy: 0.7967 - val_loss: 0.3839 - val_accuracy: 0.9167\n",
      "Epoch 5/15\n",
      "38/38 [==============================] - 0s 4ms/step - loss: 0.4469 - accuracy: 0.8475 - val_loss: 0.2999 - val_accuracy: 0.9200\n",
      "Epoch 6/15\n",
      "38/38 [==============================] - 0s 4ms/step - loss: 0.3287 - accuracy: 0.8817 - val_loss: 0.2228 - val_accuracy: 0.9400\n",
      "Epoch 7/15\n",
      "38/38 [==============================] - 0s 4ms/step - loss: 0.2786 - accuracy: 0.9083 - val_loss: 0.1837 - val_accuracy: 0.9567\n",
      "Epoch 8/15\n",
      "38/38 [==============================] - 0s 4ms/step - loss: 0.2293 - accuracy: 0.9283 - val_loss: 0.1517 - val_accuracy: 0.9600\n",
      "Epoch 9/15\n",
      "38/38 [==============================] - 0s 4ms/step - loss: 0.2075 - accuracy: 0.9217 - val_loss: 0.1675 - val_accuracy: 0.9400\n",
      "Epoch 10/15\n",
      "38/38 [==============================] - 0s 4ms/step - loss: 0.1744 - accuracy: 0.9475 - val_loss: 0.0942 - val_accuracy: 0.9733\n",
      "Epoch 11/15\n",
      "38/38 [==============================] - 0s 4ms/step - loss: 0.1503 - accuracy: 0.9500 - val_loss: 0.0698 - val_accuracy: 0.9867\n",
      "Epoch 12/15\n",
      "38/38 [==============================] - 0s 4ms/step - loss: 0.1464 - accuracy: 0.9542 - val_loss: 0.0642 - val_accuracy: 0.9900\n",
      "Epoch 13/15\n",
      "38/38 [==============================] - 0s 4ms/step - loss: 0.1205 - accuracy: 0.9642 - val_loss: 0.0497 - val_accuracy: 0.9900\n",
      "Epoch 14/15\n",
      "38/38 [==============================] - 0s 4ms/step - loss: 0.1042 - accuracy: 0.9642 - val_loss: 0.0451 - val_accuracy: 0.9967\n",
      "Epoch 15/15\n",
      "38/38 [==============================] - 0s 4ms/step - loss: 0.1101 - accuracy: 0.9608 - val_loss: 0.0420 - val_accuracy: 0.9933\n"
     ]
    }
   ],
   "source": [
    "model.compile(optimizer='adam',\n",
    "             loss='sparse_categorical_crossentropy',\n",
    "             metrics=['accuracy'])\n",
    "\n",
    "hist = model.fit(x_train, y_train, epochs=n_train_epoch, validation_data=(x_valid, y_valid))"
   ]
  },
  {
   "cell_type": "code",
   "execution_count": 181,
   "id": "2aa4f242",
   "metadata": {},
   "outputs": [
    {
     "data": {
      "text/plain": [
       "dict_keys(['loss', 'accuracy', 'val_loss', 'val_accuracy'])"
      ]
     },
     "execution_count": 181,
     "metadata": {},
     "output_type": "execute_result"
    }
   ],
   "source": [
    "hist.history.keys()"
   ]
  },
  {
   "cell_type": "code",
   "execution_count": 232,
   "id": "9dd972d2",
   "metadata": {},
   "outputs": [
    {
     "data": {
      "image/png": "[encoded data removed]",
      "text/plain": [
       "<Figure size 432x288 with 2 Axes>"
      ]
     },
     "metadata": {
      "needs_background": "light"
     },
     "output_type": "display_data"
    }
   ],
   "source": [
    "%matplotlib inline\n",
    "fig, loss_ax = plt.subplots()\n",
    "acc_ax = loss_ax.twinx()\n",
    "\n",
    "loss_ax.plot(hist.history['loss'], 'y', label = 'train loss')\n",
    "loss_ax.plot(hist.history['val_loss'], 'r', label = 'val loss')\n",
    "\n",
    "acc_ax.plot(hist.history['accuracy'], 'b', label = 'train accuracy')\n",
    "acc_ax.plot(hist.history['val_accuracy'], 'g', label = 'valid accuracy')\n",
    "\n",
    "loss_ax.set_xlabel('epoch')\n",
    "loss_ax.set_ylabel('loss')\n",
    "acc_ax.set_ylabel('accuracy')\n",
    "\n",
    "loss_ax.legend(loc='upper left')\n",
    "acc_ax.legend(loc='lower left')\n",
    "\n",
    "plt.show()"
   ]
  },
  {
   "cell_type": "markdown",
   "id": "3709c6f8",
   "metadata": {},
   "source": [
    "- train에서 오버피팅이 일어나지 않았음을 확인"
   ]
  },
  {
   "cell_type": "code",
   "execution_count": 233,
   "id": "772d04e6",
   "metadata": {},
   "outputs": [
    {
     "name": "stdout",
     "output_type": "stream",
     "text": [
      "16/16 - 0s - loss: 1.9137 - accuracy: 0.6760\n",
      "test_loss: 1.9136962890625 \n",
      "test_accuracy: 0.6759999990463257\n"
     ]
    }
   ],
   "source": [
    "# model을 학습시키는 코드를 직접 작성해 보세요.\n",
    "# Hint! model.evaluate()을 사용해 봅시다.\n",
    "test_loss, test_accuracy = model.evaluate(x_test_norm, y_test, verbose=2)\n",
    "print(f\"test_loss: {test_loss} \")\n",
    "print(f\"test_accuracy: {test_accuracy}\")"
   ]
  },
  {
   "cell_type": "markdown",
   "id": "1caea97f",
   "metadata": {},
   "source": [
    " 루브릭 기준인 test accuracy가 60%이상으로 나온것을 확인"
   ]
  },
  {
   "cell_type": "markdown",
   "id": "8f05274e",
   "metadata": {},
   "source": [
    "## 회고\n",
    "\n",
    "- 생각보다 test accuracy의 값이 원하는 만큼 나오지 않아 많은 반복을 하였다.\n",
    "- 처음에는 이미지를 총 300개를 넣고 하였지만 터무니 없는 성적이 나와서 훈련 데이터의 부족으로 생각하여 900, 1200, 1500개로 늘려가며 학습을 진행하여 1500개일때 원하는 성능이 나왔다.\n",
    "- 어떠한 이미지를 쓰는지도 중요하다고 생각된다. 처음 학습을 시키기위해 넣은 이미지는 배경에 다른 사물들도 많았으며 손 모양이 정확하게 보이지 않아 모델의 성능이 낮게 나왔다고 생각된다. 그 이후로는 최대한 배경에는 아무것도 나오지 않고 손모양도 다양한 각도로 잘 보이게 찍어 학습을 시키니 원하는 점수가 나왔다.\n",
    "- 또한 그냥 학습시키는 것이 아닌 vaildation data나 dropout과 같은 overfiting을 방지하는 것을 추가하는 것도 중요하다고 알게되었다."
   ]
  },
  {
   "cell_type": "code",
   "execution_count": null,
   "id": "b9620538",
   "metadata": {},
   "outputs": [],
   "source": []
  }
 ],
 "metadata": {
  "kernelspec": {
   "display_name": "Python 3 (ipykernel)",
   "language": "python",
   "name": "python3"
  },
  "language_info": {
   "codemirror_mode": {
    "name": "ipython",
    "version": 3
   },
   "file_extension": ".py",
   "mimetype": "text/x-python",
   "name": "python",
   "nbconvert_exporter": "python",
   "pygments_lexer": "ipython3",
   "version": "3.9.7"
  }
 },
 "nbformat": 4,
 "nbformat_minor": 5
}
